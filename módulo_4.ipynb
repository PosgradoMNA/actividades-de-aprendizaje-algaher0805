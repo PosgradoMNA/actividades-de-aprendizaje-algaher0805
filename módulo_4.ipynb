{
  "nbformat": 4,
  "nbformat_minor": 0,
  "metadata": {
    "colab": {
      "provenance": [],
      "collapsed_sections": [],
      "authorship_tag": "ABX9TyONTvCHUFS/SdjWGM9KH3mF",
      "include_colab_link": true
    },
    "kernelspec": {
      "name": "python3",
      "display_name": "Python 3"
    },
    "language_info": {
      "name": "python"
    }
  },
  "cells": [
    {
      "cell_type": "markdown",
      "metadata": {
        "id": "view-in-github",
        "colab_type": "text"
      },
      "source": [
        "<a href=\"https://colab.research.google.com/github/PosgradoMNA/actividades-de-aprendizaje-algaher0805/blob/main/m%C3%B3dulo_4.ipynb\" target=\"_parent\"><img src=\"https://colab.research.google.com/assets/colab-badge.svg\" alt=\"Open In Colab\"/></a>"
      ]
    },
    {
      "cell_type": "markdown",
      "source": [
        "En el módulo 4 nos muestra inicialmente como leer archivos con la función **open** en la cuál, el primer argumento se refiere a la dirección en donde se encuentra el archivo que se desea leer, al igual que el nombre del mismo. El segundo argumento se refiere a que deseamos hacer, leer o escribir en el archivo."
      ],
      "metadata": {
        "id": "lpPgy6dwnWJ4"
      }
    },
    {
      "cell_type": "code",
      "source": [
        "import urllib.request\n",
        "url = 'https://cf-courses-data.s3.us.cloud-object-storage.appdomain.cloud/IBMDeveloperSkillsNetwork-PY0101EN-SkillsNetwork/labs/Module%204/data/example1.txt'\n",
        "filename = 'ejemplo.txt'\n",
        "urllib.request.urlretrieve(url, filename)\n",
        "\n",
        "!wget -O /resources/data/Example1.txt https://cf-courses-data.s3.us.cloud-object-storage.appdomain.cloud/IBMDeveloperSkillsNetwork-PY0101EN-SkillsNetwork/labs/Module%204/data/example1.txt"
      ],
      "metadata": {
        "colab": {
          "base_uri": "https://localhost:8080/"
        },
        "id": "XgkqVB0Lp0du",
        "outputId": "a343a23e-c0f3-4b6e-f879-ba12f85bd619"
      },
      "execution_count": 11,
      "outputs": [
        {
          "output_type": "stream",
          "name": "stdout",
          "text": [
            "/resources/data/Example1.txt: No such file or directory\n"
          ]
        }
      ]
    },
    {
      "cell_type": "code",
      "execution_count": 15,
      "metadata": {
        "colab": {
          "base_uri": "https://localhost:8080/",
          "height": 35
        },
        "id": "MqX8kYHknTKj",
        "outputId": "4cd856b9-932a-4422-cc36-5f02a1ba1f0a"
      },
      "outputs": [
        {
          "output_type": "execute_result",
          "data": {
            "text/plain": [
              "'ejemplo.txt'"
            ],
            "application/vnd.google.colaboratory.intrinsic+json": {
              "type": "string"
            }
          },
          "metadata": {},
          "execution_count": 15
        }
      ],
      "source": [
        "# se carga el archivo y ahora podemos ver diferentes atributos como el nombre\n",
        "\n",
        "archivo = open(\"ejemplo.txt\", \"r\")\n",
        "archivo.name"
      ]
    },
    {
      "cell_type": "code",
      "source": [
        "#o el modo en el que abrimos el archivo\n",
        "archivo.mode"
      ],
      "metadata": {
        "colab": {
          "base_uri": "https://localhost:8080/",
          "height": 35
        },
        "id": "3-hks9hXtT6N",
        "outputId": "16bc941b-f5dc-42ee-e28e-e6f35ff94bb3"
      },
      "execution_count": 16,
      "outputs": [
        {
          "output_type": "execute_result",
          "data": {
            "text/plain": [
              "'r'"
            ],
            "application/vnd.google.colaboratory.intrinsic+json": {
              "type": "string"
            }
          },
          "metadata": {},
          "execution_count": 16
        }
      ]
    },
    {
      "cell_type": "code",
      "source": [
        "#podemos ver también el contenido del archivo\n",
        "contenido = archivo.read()\n",
        "contenido"
      ],
      "metadata": {
        "colab": {
          "base_uri": "https://localhost:8080/",
          "height": 35
        },
        "id": "2zeudAjDt2AL",
        "outputId": "70112dcc-015e-49b6-b888-c99a5f51cd47"
      },
      "execution_count": 17,
      "outputs": [
        {
          "output_type": "execute_result",
          "data": {
            "text/plain": [
              "'This is line 1 \\nThis is line 2\\nThis is line 3'"
            ],
            "application/vnd.google.colaboratory.intrinsic+json": {
              "type": "string"
            }
          },
          "metadata": {},
          "execution_count": 17
        }
      ]
    },
    {
      "cell_type": "code",
      "source": [
        "#se puede imprimir el contenido\n",
        "print(contenido)"
      ],
      "metadata": {
        "colab": {
          "base_uri": "https://localhost:8080/"
        },
        "id": "IHWCUbjk1fJL",
        "outputId": "7aadb005-6e53-421a-ead9-656f73b1e800"
      },
      "execution_count": 18,
      "outputs": [
        {
          "output_type": "stream",
          "name": "stdout",
          "text": [
            "This is line 1 \n",
            "This is line 2\n",
            "This is line 3\n"
          ]
        }
      ]
    },
    {
      "cell_type": "code",
      "source": [
        "#y ver el tipo de variables que tiene\n",
        "type(contenido)"
      ],
      "metadata": {
        "colab": {
          "base_uri": "https://localhost:8080/"
        },
        "id": "bBuq_Tgl16DM",
        "outputId": "f3401dec-2669-4a5a-da8c-c8e9ed2b9ff5"
      },
      "execution_count": 19,
      "outputs": [
        {
          "output_type": "execute_result",
          "data": {
            "text/plain": [
              "str"
            ]
          },
          "metadata": {},
          "execution_count": 19
        }
      ]
    },
    {
      "cell_type": "code",
      "source": [
        "#OJO al finalizar el archvio siempre debe de cerrarse\n",
        "archivo.close()"
      ],
      "metadata": {
        "id": "UrO2-NFs1_vp"
      },
      "execution_count": 20,
      "outputs": []
    },
    {
      "cell_type": "markdown",
      "source": [
        "Precisamente por lo anterior una mejor práctica para abrir un archivo es con la declaración \"with\" ya que después de correr todo lo que esté con sangría cerrara el archivo automáticamente."
      ],
      "metadata": {
        "id": "6WTHPQwU2ZT-"
      }
    },
    {
      "cell_type": "code",
      "source": [
        "\n",
        "with open(ejemplo, \"r\") as archivo1:\n",
        "    FileContent = archivo1.read()\n",
        "    print(FileContent)"
      ],
      "metadata": {
        "colab": {
          "base_uri": "https://localhost:8080/"
        },
        "id": "rVek_g_02zaX",
        "outputId": "f049adb2-9094-444a-edfb-fd34c0c4b1ce"
      },
      "execution_count": 21,
      "outputs": [
        {
          "output_type": "stream",
          "name": "stdout",
          "text": [
            "This is line 1 \n",
            "This is line 2\n",
            "This is line 3\n"
          ]
        }
      ]
    },
    {
      "cell_type": "code",
      "source": [
        "#Podemos también leer un número determinado de caracteres\n",
        "\n",
        "with open(ejemplo, \"r\") as archivo1:\n",
        "    print(archivo1.read(4))\n",
        "    print(archivo1.read(8))\n",
        "    print(archivo1.read(20))\n",
        "\n",
        "#como podemos observar, primero lee 4 caracteres y con la segunda línea de código lee los siguientes 8"
      ],
      "metadata": {
        "colab": {
          "base_uri": "https://localhost:8080/"
        },
        "id": "Q6zWSMh23nhG",
        "outputId": "76b378b1-67db-4253-ea58-ce5a75c047e7"
      },
      "execution_count": 24,
      "outputs": [
        {
          "output_type": "stream",
          "name": "stdout",
          "text": [
            "This\n",
            " is line\n",
            " 1 \n",
            "This is line 2\n",
            "T\n"
          ]
        }
      ]
    },
    {
      "cell_type": "code",
      "source": [
        "#también se puede leer una línea completa\n",
        "with open(ejemplo, \"r\") as archivo1:\n",
        "    print(\"línea 1: \" + archivo1.readline())\n",
        "    print(\"línea 2: \" + archivo1.readline())\n",
        "#Al igual que con la lectur de caracteres una vez que se leyó la primer línea, si volvemos a utilizad readline entonces leera\n",
        "#la segunda línea"
      ],
      "metadata": {
        "colab": {
          "base_uri": "https://localhost:8080/"
        },
        "id": "z_GIygVP4bnS",
        "outputId": "dbff985d-7157-4503-e228-b35d7b27a5dc"
      },
      "execution_count": 26,
      "outputs": [
        {
          "output_type": "stream",
          "name": "stdout",
          "text": [
            "línea 1: This is line 1 \n",
            "\n",
            "línea 2: This is line 2\n",
            "\n"
          ]
        }
      ]
    }
  ]
}