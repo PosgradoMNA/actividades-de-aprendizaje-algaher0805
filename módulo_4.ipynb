{
  "nbformat": 4,
  "nbformat_minor": 0,
  "metadata": {
    "colab": {
      "provenance": [],
      "collapsed_sections": [],
      "authorship_tag": "ABX9TyOlsC1C6YuNrYTNsrI8C1wT",
      "include_colab_link": true
    },
    "kernelspec": {
      "name": "python3",
      "display_name": "Python 3"
    },
    "language_info": {
      "name": "python"
    }
  },
  "cells": [
    {
      "cell_type": "markdown",
      "metadata": {
        "id": "view-in-github",
        "colab_type": "text"
      },
      "source": [
        "<a href=\"https://colab.research.google.com/github/PosgradoMNA/actividades-de-aprendizaje-algaher0805/blob/main/m%C3%B3dulo_4.ipynb\" target=\"_parent\"><img src=\"https://colab.research.google.com/assets/colab-badge.svg\" alt=\"Open In Colab\"/></a>"
      ]
    },
    {
      "cell_type": "markdown",
      "source": [
        "En el módulo 4 nos muestra inicialmente como leer archivos con la función **open** en la cuál, el primer argumento se refiere a la dirección en donde se encuentra el archivo que se desea leer, al igual que el nombre del mismo. El segundo argumento se refiere a que deseamos hacer, leer o escribir en el archivo."
      ],
      "metadata": {
        "id": "lpPgy6dwnWJ4"
      }
    },
    {
      "cell_type": "code",
      "source": [
        "import urllib.request\n",
        "url = 'https://cf-courses-data.s3.us.cloud-object-storage.appdomain.cloud/IBMDeveloperSkillsNetwork-PY0101EN-SkillsNetwork/labs/Module%204/data/example1.txt'\n",
        "filename = 'ejemplo.txt'\n",
        "urllib.request.urlretrieve(url, filename)\n",
        "\n",
        "!wget -O /resources/data/Example1.txt https://cf-courses-data.s3.us.cloud-object-storage.appdomain.cloud/IBMDeveloperSkillsNetwork-PY0101EN-SkillsNetwork/labs/Module%204/data/example1.txt"
      ],
      "metadata": {
        "colab": {
          "base_uri": "https://localhost:8080/"
        },
        "id": "XgkqVB0Lp0du",
        "outputId": "89044d02-be8a-4d6a-c38e-dee89b623b05"
      },
      "execution_count": 14,
      "outputs": [
        {
          "output_type": "stream",
          "name": "stdout",
          "text": [
            "/resources/data/Example1.txt: No such file or directory\n"
          ]
        }
      ]
    },
    {
      "cell_type": "code",
      "execution_count": 16,
      "metadata": {
        "colab": {
          "base_uri": "https://localhost:8080/",
          "height": 35
        },
        "id": "MqX8kYHknTKj",
        "outputId": "f9f62ab5-c32c-4d48-b8e9-16985916e00b"
      },
      "outputs": [
        {
          "output_type": "execute_result",
          "data": {
            "text/plain": [
              "'ejemplo.txt'"
            ],
            "application/vnd.google.colaboratory.intrinsic+json": {
              "type": "string"
            }
          },
          "metadata": {},
          "execution_count": 16
        }
      ],
      "source": [
        "# se carga el archivo y ahora podemos ver diferentes atributos como el nombre\n",
        "\n",
        "archivo = open(\"ejemplo.txt\", \"r\")\n",
        "archivo.name"
      ]
    },
    {
      "cell_type": "code",
      "source": [
        "#o el modo en el que abrimos el archivo\n",
        "archivo.mode"
      ],
      "metadata": {
        "colab": {
          "base_uri": "https://localhost:8080/",
          "height": 35
        },
        "id": "3-hks9hXtT6N",
        "outputId": "7861d4e5-a28a-499c-a63c-e8b1b4cf9817"
      },
      "execution_count": 17,
      "outputs": [
        {
          "output_type": "execute_result",
          "data": {
            "text/plain": [
              "'r'"
            ],
            "application/vnd.google.colaboratory.intrinsic+json": {
              "type": "string"
            }
          },
          "metadata": {},
          "execution_count": 17
        }
      ]
    },
    {
      "cell_type": "code",
      "source": [
        "#podemos ver también el contenido del archivo\n",
        "contenido = archivo.read()\n",
        "contenido"
      ],
      "metadata": {
        "colab": {
          "base_uri": "https://localhost:8080/",
          "height": 35
        },
        "id": "2zeudAjDt2AL",
        "outputId": "31d33c84-6352-4671-b8d4-75357f21b4c1"
      },
      "execution_count": 18,
      "outputs": [
        {
          "output_type": "execute_result",
          "data": {
            "text/plain": [
              "'This is line 1 \\nThis is line 2\\nThis is line 3'"
            ],
            "application/vnd.google.colaboratory.intrinsic+json": {
              "type": "string"
            }
          },
          "metadata": {},
          "execution_count": 18
        }
      ]
    },
    {
      "cell_type": "code",
      "source": [
        "#se puede imprimir el contenido\n",
        "print(contenido)"
      ],
      "metadata": {
        "colab": {
          "base_uri": "https://localhost:8080/"
        },
        "id": "IHWCUbjk1fJL",
        "outputId": "c95f7de1-d983-401f-ce63-baf8af421ec9"
      },
      "execution_count": 19,
      "outputs": [
        {
          "output_type": "stream",
          "name": "stdout",
          "text": [
            "This is line 1 \n",
            "This is line 2\n",
            "This is line 3\n"
          ]
        }
      ]
    },
    {
      "cell_type": "code",
      "source": [
        "#y ver el tipo de variables que tiene\n",
        "type(contenido)"
      ],
      "metadata": {
        "colab": {
          "base_uri": "https://localhost:8080/"
        },
        "id": "bBuq_Tgl16DM",
        "outputId": "d02adae2-c898-4171-f8a8-558b0bc35869"
      },
      "execution_count": 20,
      "outputs": [
        {
          "output_type": "execute_result",
          "data": {
            "text/plain": [
              "str"
            ]
          },
          "metadata": {},
          "execution_count": 20
        }
      ]
    },
    {
      "cell_type": "code",
      "source": [
        "#OJO al finalizar el archvio siempre debe de cerrarse\n",
        "archivo.close()"
      ],
      "metadata": {
        "id": "UrO2-NFs1_vp"
      },
      "execution_count": 23,
      "outputs": []
    },
    {
      "cell_type": "markdown",
      "source": [
        "Precisamente por lo anterior una mejor práctica para abrir un archivo es con la declaración \"with\" ya que después de correr todo lo que esté con sangría cerrara el archivo automáticamente."
      ],
      "metadata": {
        "id": "6WTHPQwU2ZT-"
      }
    },
    {
      "cell_type": "code",
      "source": [
        "with open(\"ejemplo.txt\", \"r\") as archivo1:\n",
        "    FileContent = archivo1.read()\n",
        "    print(FileContent)"
      ],
      "metadata": {
        "colab": {
          "base_uri": "https://localhost:8080/"
        },
        "id": "rVek_g_02zaX",
        "outputId": "6442ba9f-228f-4e44-f940-dbc5d961481d"
      },
      "execution_count": 24,
      "outputs": [
        {
          "output_type": "stream",
          "name": "stdout",
          "text": [
            "This is line 1 \n",
            "This is line 2\n",
            "This is line 3\n"
          ]
        }
      ]
    },
    {
      "cell_type": "code",
      "source": [
        "#Podemos también leer un número determinado de caracteres\n",
        "\n",
        "with open(\"ejemplo.txt\", \"r\") as archivo1:\n",
        "    print(archivo1.read(4))\n",
        "    print(archivo1.read(8))\n",
        "    print(archivo1.read(20))\n",
        "\n",
        "#como podemos observar, primero lee 4 caracteres y con la segunda línea de código lee los siguientes 8"
      ],
      "metadata": {
        "colab": {
          "base_uri": "https://localhost:8080/"
        },
        "id": "Q6zWSMh23nhG",
        "outputId": "1ed35a5d-3d77-47e1-93b1-3e680baa040f"
      },
      "execution_count": 26,
      "outputs": [
        {
          "output_type": "stream",
          "name": "stdout",
          "text": [
            "This\n",
            " is line\n",
            " 1 \n",
            "This is line 2\n",
            "T\n"
          ]
        }
      ]
    },
    {
      "cell_type": "code",
      "source": [
        "#también se puede leer una línea completa\n",
        "with open(\"ejemplo.txt\", \"r\") as archivo1:\n",
        "    print(\"línea 1: \" + archivo1.readline())\n",
        "    print(\"línea 2: \" + archivo1.readline())\n",
        "#Al igual que con la lectura de caracteres una vez que se leyó la primer línea, si volvemos a utilizad readline entonces leera\n",
        "#la segunda línea"
      ],
      "metadata": {
        "colab": {
          "base_uri": "https://localhost:8080/"
        },
        "id": "z_GIygVP4bnS",
        "outputId": "79baf93e-df5c-43c9-b0f6-ebcff80e106d"
      },
      "execution_count": 27,
      "outputs": [
        {
          "output_type": "stream",
          "name": "stdout",
          "text": [
            "línea 1: This is line 1 \n",
            "\n",
            "línea 2: This is line 2\n",
            "\n"
          ]
        }
      ]
    },
    {
      "cell_type": "code",
      "source": [
        "#también podemos leer cierto número de caracteres de una línea en específico\n",
        "with open(\"ejemplo.txt\", \"r\") as archivo1:\n",
        "    print(archivo1.readline(20)) # NOTA, aunq pongamos un argumento mayor solo se puede leer el número máximo de caracteres de la línea  \n",
        "    print(archivo1.read(20)) # mientras que si no se usa el comando readline si la línea no tiene más caracteres entonces extrae de la siguiente línea\n"
      ],
      "metadata": {
        "colab": {
          "base_uri": "https://localhost:8080/"
        },
        "id": "XwZzTBCLfQ9u",
        "outputId": "7329af90-3d88-4d89-808d-21ffaac713be"
      },
      "execution_count": 28,
      "outputs": [
        {
          "output_type": "stream",
          "name": "stdout",
          "text": [
            "This is line 1 \n",
            "\n",
            "This is line 2\n",
            "This \n"
          ]
        }
      ]
    },
    {
      "cell_type": "code",
      "source": [
        "#También podríamos usar un loop dentro para leer varias líneas\n",
        "with open(\"ejemplo.txt\",\"r\") as archivo1:\n",
        "        i = 1;\n",
        "        for line in archivo1:\n",
        "            print(\"línea \", str(i), \": \", line)\n",
        "            i = i + 1"
      ],
      "metadata": {
        "colab": {
          "base_uri": "https://localhost:8080/"
        },
        "id": "FwKXTyE2jN31",
        "outputId": "a1292db0-c863-49bc-a0ec-c4dbc640afa9"
      },
      "execution_count": 30,
      "outputs": [
        {
          "output_type": "stream",
          "name": "stdout",
          "text": [
            "línea  1 :  This is line 1 \n",
            "\n",
            "línea  2 :  This is line 2\n",
            "\n",
            "línea  3 :  This is line 3\n"
          ]
        }
      ]
    },
    {
      "cell_type": "code",
      "source": [
        "#Por último, podríamos guardar el contenido en listas\n",
        "with open(\"ejemplo.txt\",\"r\") as archivo1:\n",
        "    lista = archivo1.readlines()\n",
        "\n",
        "print (lista[0])\n",
        "print(lista[2])    "
      ],
      "metadata": {
        "colab": {
          "base_uri": "https://localhost:8080/"
        },
        "id": "I_Z2wihfjoTP",
        "outputId": "bcaba9eb-8294-47f8-dce5-899b6b5b8e94"
      },
      "execution_count": 31,
      "outputs": [
        {
          "output_type": "stream",
          "name": "stdout",
          "text": [
            "This is line 1 \n",
            "\n",
            "This is line 3\n"
          ]
        }
      ]
    },
    {
      "cell_type": "markdown",
      "source": [
        "con \"with\" también podemos escribir sobre un archivo. "
      ],
      "metadata": {
        "id": "jgDhUMFpp01c"
      }
    },
    {
      "cell_type": "code",
      "source": [
        "# Como vimos en los ejemplos anteriores cuando usamos \"open\" siempre hay que poner la extensión del archivo, \n",
        "#para mejores prácticas definimos una variable con un nombre más corto \n",
        "ej2 = 'ejemplo2.txt'\n",
        "with open(ej2, 'w') as writefile:\n",
        "    writefile.write(\"Primer línea\")\n",
        "\n",
        "#y corroboramos que se escribio en el archivo\n",
        "with open(ej2, 'r') as testwritefile:\n",
        "    print(testwritefile.read())"
      ],
      "metadata": {
        "colab": {
          "base_uri": "https://localhost:8080/"
        },
        "id": "92RvVRtsp7yT",
        "outputId": "0e2b0e9f-1361-400f-c917-79e3b0c2188a"
      },
      "execution_count": 33,
      "outputs": [
        {
          "output_type": "stream",
          "name": "stdout",
          "text": [
            "Primer línea\n"
          ]
        }
      ]
    },
    {
      "cell_type": "code",
      "source": [
        "#podemos agregar varias líneas\n",
        "with open(ej2, 'w') as w_file:\n",
        "    w_file.write(\"Primer línea\\n\")\n",
        "    w_file.write(\"Segunda línea\\n\")\n",
        "\n",
        "#y corroboramos que se ha escrito correctamente\n",
        "with open(ej2, 'r') as comprueba:\n",
        "    print(comprueba.read())"
      ],
      "metadata": {
        "colab": {
          "base_uri": "https://localhost:8080/"
        },
        "id": "2piJkLVwqmZE",
        "outputId": "77beea9a-38dd-470c-bfc7-e68163ebd7e0"
      },
      "execution_count": 35,
      "outputs": [
        {
          "output_type": "stream",
          "name": "stdout",
          "text": [
            "Primer línea\n",
            "Segunda línea\n",
            "\n"
          ]
        }
      ]
    },
    {
      "cell_type": "code",
      "source": [
        "#Podemos escribir los elementos del archivo desde una lista\n",
        "Lines = [\"Primer línea\\n\", \"Segunda línea\\n\", \"Tercer línea\\n\"]\n",
        "with open(ej2, 'w') as w_file:\n",
        "    for line in Lines:\n",
        "        w_file.write(line)\n",
        "\n",
        "#y corroboramos que se ha escrito correctamente\n",
        "with open(ej2, 'r') as comprueba:\n",
        "    print(comprueba.read())"
      ],
      "metadata": {
        "colab": {
          "base_uri": "https://localhost:8080/"
        },
        "id": "8N6v5BYrrKEi",
        "outputId": "f51d8baa-36db-4d1f-e340-5d999e75557a"
      },
      "execution_count": 46,
      "outputs": [
        {
          "output_type": "stream",
          "name": "stdout",
          "text": [
            "Primer línea\n",
            "Segunda línea\n",
            "Tercer línea\n",
            "\n"
          ]
        }
      ]
    },
    {
      "cell_type": "markdown",
      "source": [
        "No en todos los casos será conveniente el uso del parametro \"w\" ya que como se puede observar en los ejemplos anteriores, esto sobreescribe todo el archivo, si se quiere más bien ir agregando información lo más conveniente será append."
      ],
      "metadata": {
        "id": "BaI-1PftsFmF"
      }
    },
    {
      "cell_type": "code",
      "source": [
        "with open(ej2, 'a') as prueba:\n",
        "    prueba.write(\"This is line C\\n\")\n",
        "    prueba.write(\"This is line D\\n\")\n",
        "    prueba.write(\"This is line E\\n\")\n",
        "\n",
        "#y corroboramos que se ha agregado la información y no sobreescribió lo que ya contenía el archivo\n",
        "with open(ej2, 'r') as comprueba:\n",
        "    print(comprueba.read())"
      ],
      "metadata": {
        "colab": {
          "base_uri": "https://localhost:8080/"
        },
        "id": "BJqf2rxWsVCc",
        "outputId": "2f109604-ff22-4f6e-c3c1-a0310c700027"
      },
      "execution_count": 47,
      "outputs": [
        {
          "output_type": "stream",
          "name": "stdout",
          "text": [
            "Primer línea\n",
            "Segunda línea\n",
            "Tercer línea\n",
            "This is line C\n",
            "This is line D\n",
            "This is line E\n",
            "\n"
          ]
        }
      ]
    },
    {
      "cell_type": "code",
      "source": [
        "#Finalmente, con write y read podemos copiar un archivo a otro\n",
        "ej3='ejemplo3.txt'\n",
        "with open(ej2,'r') as r_file:\n",
        "    with open(ej3,'w') as w_file:\n",
        "          for line in r_file:\n",
        "                w_file.write(line)\n",
        "\n",
        "with open(ej3, 'r') as comprueba:\n",
        "    print(comprueba.read())"
      ],
      "metadata": {
        "colab": {
          "base_uri": "https://localhost:8080/"
        },
        "id": "skZ9_xg0whuU",
        "outputId": "4c85d60c-a1f7-4b96-b727-a1e6eb596f23"
      },
      "execution_count": 48,
      "outputs": [
        {
          "output_type": "stream",
          "name": "stdout",
          "text": [
            "Primer línea\n",
            "Segunda línea\n",
            "Tercer línea\n",
            "This is line C\n",
            "This is line D\n",
            "This is line E\n",
            "\n"
          ]
        }
      ]
    },
    {
      "cell_type": "markdown",
      "source": [
        "En este módulo se introduce también el uso de librerías. Se introducen algunas funciones cargadas en la libreria pandas"
      ],
      "metadata": {
        "id": "88hBUJpJzxS1"
      }
    },
    {
      "cell_type": "code",
      "source": [
        "#el alias estandar para la librería pandas es \"pd\"\n",
        "import pandas as pd\n",
        "\n",
        "df=pd.DataFrame({'a':[11,21,31],'b':[21,22,23],'c':[0,1,0]})\n",
        "\n",
        "#con head podemos ver los primeros 5 regustros del archivo o los primeros n si especificamos el argumento\n",
        "print(df.head())\n",
        "print(df.head(1))"
      ],
      "metadata": {
        "colab": {
          "base_uri": "https://localhost:8080/"
        },
        "id": "FdkayBh2za7u",
        "outputId": "878b63fd-0a31-4480-b4db-da96a7e52590"
      },
      "execution_count": 23,
      "outputs": [
        {
          "output_type": "stream",
          "name": "stdout",
          "text": [
            "    a   b  c\n",
            "0  11  21  0\n",
            "1  21  22  1\n",
            "2  31  23  0\n",
            "    a   b  c\n",
            "0  11  21  0\n"
          ]
        }
      ]
    },
    {
      "cell_type": "code",
      "source": [
        "#Con pandas también se pueden leer archivos csv o xls con las instrucciones pd.read_excel y pd.read_csv\n",
        "\n",
        "#Una vez creado un dataframe con la función de pandas podemos crear copias del mismo o extraer ciertas columnas o renglones, por ejemplo:\n",
        "\n",
        "x = df[['a']]\n",
        "x"
      ],
      "metadata": {
        "colab": {
          "base_uri": "https://localhost:8080/",
          "height": 143
        },
        "id": "0RUdYYOw0aAT",
        "outputId": "057facd9-1a27-4f12-da4b-887e74d9a3b4"
      },
      "execution_count": 24,
      "outputs": [
        {
          "output_type": "execute_result",
          "data": {
            "text/plain": [
              "    a\n",
              "0  11\n",
              "1  21\n",
              "2  31"
            ],
            "text/html": [
              "\n",
              "  <div id=\"df-aa2630c9-7893-4455-aba2-d0032fc5ec36\">\n",
              "    <div class=\"colab-df-container\">\n",
              "      <div>\n",
              "<style scoped>\n",
              "    .dataframe tbody tr th:only-of-type {\n",
              "        vertical-align: middle;\n",
              "    }\n",
              "\n",
              "    .dataframe tbody tr th {\n",
              "        vertical-align: top;\n",
              "    }\n",
              "\n",
              "    .dataframe thead th {\n",
              "        text-align: right;\n",
              "    }\n",
              "</style>\n",
              "<table border=\"1\" class=\"dataframe\">\n",
              "  <thead>\n",
              "    <tr style=\"text-align: right;\">\n",
              "      <th></th>\n",
              "      <th>a</th>\n",
              "    </tr>\n",
              "  </thead>\n",
              "  <tbody>\n",
              "    <tr>\n",
              "      <th>0</th>\n",
              "      <td>11</td>\n",
              "    </tr>\n",
              "    <tr>\n",
              "      <th>1</th>\n",
              "      <td>21</td>\n",
              "    </tr>\n",
              "    <tr>\n",
              "      <th>2</th>\n",
              "      <td>31</td>\n",
              "    </tr>\n",
              "  </tbody>\n",
              "</table>\n",
              "</div>\n",
              "      <button class=\"colab-df-convert\" onclick=\"convertToInteractive('df-aa2630c9-7893-4455-aba2-d0032fc5ec36')\"\n",
              "              title=\"Convert this dataframe to an interactive table.\"\n",
              "              style=\"display:none;\">\n",
              "        \n",
              "  <svg xmlns=\"http://www.w3.org/2000/svg\" height=\"24px\"viewBox=\"0 0 24 24\"\n",
              "       width=\"24px\">\n",
              "    <path d=\"M0 0h24v24H0V0z\" fill=\"none\"/>\n",
              "    <path d=\"M18.56 5.44l.94 2.06.94-2.06 2.06-.94-2.06-.94-.94-2.06-.94 2.06-2.06.94zm-11 1L8.5 8.5l.94-2.06 2.06-.94-2.06-.94L8.5 2.5l-.94 2.06-2.06.94zm10 10l.94 2.06.94-2.06 2.06-.94-2.06-.94-.94-2.06-.94 2.06-2.06.94z\"/><path d=\"M17.41 7.96l-1.37-1.37c-.4-.4-.92-.59-1.43-.59-.52 0-1.04.2-1.43.59L10.3 9.45l-7.72 7.72c-.78.78-.78 2.05 0 2.83L4 21.41c.39.39.9.59 1.41.59.51 0 1.02-.2 1.41-.59l7.78-7.78 2.81-2.81c.8-.78.8-2.07 0-2.86zM5.41 20L4 18.59l7.72-7.72 1.47 1.35L5.41 20z\"/>\n",
              "  </svg>\n",
              "      </button>\n",
              "      \n",
              "  <style>\n",
              "    .colab-df-container {\n",
              "      display:flex;\n",
              "      flex-wrap:wrap;\n",
              "      gap: 12px;\n",
              "    }\n",
              "\n",
              "    .colab-df-convert {\n",
              "      background-color: #E8F0FE;\n",
              "      border: none;\n",
              "      border-radius: 50%;\n",
              "      cursor: pointer;\n",
              "      display: none;\n",
              "      fill: #1967D2;\n",
              "      height: 32px;\n",
              "      padding: 0 0 0 0;\n",
              "      width: 32px;\n",
              "    }\n",
              "\n",
              "    .colab-df-convert:hover {\n",
              "      background-color: #E2EBFA;\n",
              "      box-shadow: 0px 1px 2px rgba(60, 64, 67, 0.3), 0px 1px 3px 1px rgba(60, 64, 67, 0.15);\n",
              "      fill: #174EA6;\n",
              "    }\n",
              "\n",
              "    [theme=dark] .colab-df-convert {\n",
              "      background-color: #3B4455;\n",
              "      fill: #D2E3FC;\n",
              "    }\n",
              "\n",
              "    [theme=dark] .colab-df-convert:hover {\n",
              "      background-color: #434B5C;\n",
              "      box-shadow: 0px 1px 3px 1px rgba(0, 0, 0, 0.15);\n",
              "      filter: drop-shadow(0px 1px 2px rgba(0, 0, 0, 0.3));\n",
              "      fill: #FFFFFF;\n",
              "    }\n",
              "  </style>\n",
              "\n",
              "      <script>\n",
              "        const buttonEl =\n",
              "          document.querySelector('#df-aa2630c9-7893-4455-aba2-d0032fc5ec36 button.colab-df-convert');\n",
              "        buttonEl.style.display =\n",
              "          google.colab.kernel.accessAllowed ? 'block' : 'none';\n",
              "\n",
              "        async function convertToInteractive(key) {\n",
              "          const element = document.querySelector('#df-aa2630c9-7893-4455-aba2-d0032fc5ec36');\n",
              "          const dataTable =\n",
              "            await google.colab.kernel.invokeFunction('convertToInteractive',\n",
              "                                                     [key], {});\n",
              "          if (!dataTable) return;\n",
              "\n",
              "          const docLinkHtml = 'Like what you see? Visit the ' +\n",
              "            '<a target=\"_blank\" href=https://colab.research.google.com/notebooks/data_table.ipynb>data table notebook</a>'\n",
              "            + ' to learn more about interactive tables.';\n",
              "          element.innerHTML = '';\n",
              "          dataTable['output_type'] = 'display_data';\n",
              "          await google.colab.output.renderOutput(dataTable, element);\n",
              "          const docLink = document.createElement('div');\n",
              "          docLink.innerHTML = docLinkHtml;\n",
              "          element.appendChild(docLink);\n",
              "        }\n",
              "      </script>\n",
              "    </div>\n",
              "  </div>\n",
              "  "
            ]
          },
          "metadata": {},
          "execution_count": 24
        }
      ]
    },
    {
      "cell_type": "code",
      "source": [
        "x = df.iloc[0:1,]\n",
        "print(x)\n"
      ],
      "metadata": {
        "colab": {
          "base_uri": "https://localhost:8080/"
        },
        "id": "9Ms1bfYbUADm",
        "outputId": "f3db6022-c699-4900-9c5a-4736263553c8"
      },
      "execution_count": 25,
      "outputs": [
        {
          "output_type": "stream",
          "name": "stdout",
          "text": [
            "    a   b  c\n",
            "0  11  21  0\n"
          ]
        }
      ]
    },
    {
      "cell_type": "code",
      "source": [
        "#Por último podemos extraer un subconjunto de los datos que cumplan ciertas donciciones, en este caso aquellos registros cuyo valor de la columna c sea 0\n",
        "\n",
        "df_1 = df[df['c']==0]\n",
        "df_1"
      ],
      "metadata": {
        "colab": {
          "base_uri": "https://localhost:8080/",
          "height": 112
        },
        "id": "mLNGahmSxM5y",
        "outputId": "666616ea-8c16-4de1-e0db-95e3872ae1d4"
      },
      "execution_count": 26,
      "outputs": [
        {
          "output_type": "execute_result",
          "data": {
            "text/plain": [
              "    a   b  c\n",
              "0  11  21  0\n",
              "2  31  23  0"
            ],
            "text/html": [
              "\n",
              "  <div id=\"df-c6aa120a-bfb1-4495-bbf1-ca6ea4e36d9a\">\n",
              "    <div class=\"colab-df-container\">\n",
              "      <div>\n",
              "<style scoped>\n",
              "    .dataframe tbody tr th:only-of-type {\n",
              "        vertical-align: middle;\n",
              "    }\n",
              "\n",
              "    .dataframe tbody tr th {\n",
              "        vertical-align: top;\n",
              "    }\n",
              "\n",
              "    .dataframe thead th {\n",
              "        text-align: right;\n",
              "    }\n",
              "</style>\n",
              "<table border=\"1\" class=\"dataframe\">\n",
              "  <thead>\n",
              "    <tr style=\"text-align: right;\">\n",
              "      <th></th>\n",
              "      <th>a</th>\n",
              "      <th>b</th>\n",
              "      <th>c</th>\n",
              "    </tr>\n",
              "  </thead>\n",
              "  <tbody>\n",
              "    <tr>\n",
              "      <th>0</th>\n",
              "      <td>11</td>\n",
              "      <td>21</td>\n",
              "      <td>0</td>\n",
              "    </tr>\n",
              "    <tr>\n",
              "      <th>2</th>\n",
              "      <td>31</td>\n",
              "      <td>23</td>\n",
              "      <td>0</td>\n",
              "    </tr>\n",
              "  </tbody>\n",
              "</table>\n",
              "</div>\n",
              "      <button class=\"colab-df-convert\" onclick=\"convertToInteractive('df-c6aa120a-bfb1-4495-bbf1-ca6ea4e36d9a')\"\n",
              "              title=\"Convert this dataframe to an interactive table.\"\n",
              "              style=\"display:none;\">\n",
              "        \n",
              "  <svg xmlns=\"http://www.w3.org/2000/svg\" height=\"24px\"viewBox=\"0 0 24 24\"\n",
              "       width=\"24px\">\n",
              "    <path d=\"M0 0h24v24H0V0z\" fill=\"none\"/>\n",
              "    <path d=\"M18.56 5.44l.94 2.06.94-2.06 2.06-.94-2.06-.94-.94-2.06-.94 2.06-2.06.94zm-11 1L8.5 8.5l.94-2.06 2.06-.94-2.06-.94L8.5 2.5l-.94 2.06-2.06.94zm10 10l.94 2.06.94-2.06 2.06-.94-2.06-.94-.94-2.06-.94 2.06-2.06.94z\"/><path d=\"M17.41 7.96l-1.37-1.37c-.4-.4-.92-.59-1.43-.59-.52 0-1.04.2-1.43.59L10.3 9.45l-7.72 7.72c-.78.78-.78 2.05 0 2.83L4 21.41c.39.39.9.59 1.41.59.51 0 1.02-.2 1.41-.59l7.78-7.78 2.81-2.81c.8-.78.8-2.07 0-2.86zM5.41 20L4 18.59l7.72-7.72 1.47 1.35L5.41 20z\"/>\n",
              "  </svg>\n",
              "      </button>\n",
              "      \n",
              "  <style>\n",
              "    .colab-df-container {\n",
              "      display:flex;\n",
              "      flex-wrap:wrap;\n",
              "      gap: 12px;\n",
              "    }\n",
              "\n",
              "    .colab-df-convert {\n",
              "      background-color: #E8F0FE;\n",
              "      border: none;\n",
              "      border-radius: 50%;\n",
              "      cursor: pointer;\n",
              "      display: none;\n",
              "      fill: #1967D2;\n",
              "      height: 32px;\n",
              "      padding: 0 0 0 0;\n",
              "      width: 32px;\n",
              "    }\n",
              "\n",
              "    .colab-df-convert:hover {\n",
              "      background-color: #E2EBFA;\n",
              "      box-shadow: 0px 1px 2px rgba(60, 64, 67, 0.3), 0px 1px 3px 1px rgba(60, 64, 67, 0.15);\n",
              "      fill: #174EA6;\n",
              "    }\n",
              "\n",
              "    [theme=dark] .colab-df-convert {\n",
              "      background-color: #3B4455;\n",
              "      fill: #D2E3FC;\n",
              "    }\n",
              "\n",
              "    [theme=dark] .colab-df-convert:hover {\n",
              "      background-color: #434B5C;\n",
              "      box-shadow: 0px 1px 3px 1px rgba(0, 0, 0, 0.15);\n",
              "      filter: drop-shadow(0px 1px 2px rgba(0, 0, 0, 0.3));\n",
              "      fill: #FFFFFF;\n",
              "    }\n",
              "  </style>\n",
              "\n",
              "      <script>\n",
              "        const buttonEl =\n",
              "          document.querySelector('#df-c6aa120a-bfb1-4495-bbf1-ca6ea4e36d9a button.colab-df-convert');\n",
              "        buttonEl.style.display =\n",
              "          google.colab.kernel.accessAllowed ? 'block' : 'none';\n",
              "\n",
              "        async function convertToInteractive(key) {\n",
              "          const element = document.querySelector('#df-c6aa120a-bfb1-4495-bbf1-ca6ea4e36d9a');\n",
              "          const dataTable =\n",
              "            await google.colab.kernel.invokeFunction('convertToInteractive',\n",
              "                                                     [key], {});\n",
              "          if (!dataTable) return;\n",
              "\n",
              "          const docLinkHtml = 'Like what you see? Visit the ' +\n",
              "            '<a target=\"_blank\" href=https://colab.research.google.com/notebooks/data_table.ipynb>data table notebook</a>'\n",
              "            + ' to learn more about interactive tables.';\n",
              "          element.innerHTML = '';\n",
              "          dataTable['output_type'] = 'display_data';\n",
              "          await google.colab.output.renderOutput(dataTable, element);\n",
              "          const docLink = document.createElement('div');\n",
              "          docLink.innerHTML = docLinkHtml;\n",
              "          element.appendChild(docLink);\n",
              "        }\n",
              "      </script>\n",
              "    </div>\n",
              "  </div>\n",
              "  "
            ]
          },
          "metadata": {},
          "execution_count": 26
        }
      ]
    },
    {
      "cell_type": "markdown",
      "source": [
        "Se adjunta el puntaje obtenido al momento en los primeros 4 módulos![Captura de pantalla 2022-09-27 161042.png](data:image/png;base64,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)"
      ],
      "metadata": {
        "id": "BGqWNswnxyvF"
      }
    }
  ]
}