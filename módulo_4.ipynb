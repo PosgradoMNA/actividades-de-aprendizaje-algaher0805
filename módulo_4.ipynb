{
  "nbformat": 4,
  "nbformat_minor": 0,
  "metadata": {
    "colab": {
      "provenance": [],
      "collapsed_sections": [],
      "authorship_tag": "ABX9TyPXVtpMsasHWxO2Zd7wg6iG",
      "include_colab_link": true
    },
    "kernelspec": {
      "name": "python3",
      "display_name": "Python 3"
    },
    "language_info": {
      "name": "python"
    }
  },
  "cells": [
    {
      "cell_type": "markdown",
      "metadata": {
        "id": "view-in-github",
        "colab_type": "text"
      },
      "source": [
        "<a href=\"https://colab.research.google.com/github/PosgradoMNA/actividades-de-aprendizaje-algaher0805/blob/main/m%C3%B3dulo_4.ipynb\" target=\"_parent\"><img src=\"https://colab.research.google.com/assets/colab-badge.svg\" alt=\"Open In Colab\"/></a>"
      ]
    },
    {
      "cell_type": "markdown",
      "source": [
        "En el módulo 4 nos muestra inicialmente como leer archivos con la función **open** en la cuál, el primer argumento se refiere a la dirección en donde se encuentra el archivo que se desea leer, al igual que el nombre del mismo. El segundo argumento se refiere a que deseamos hacer, leer o escribir en el archivo."
      ],
      "metadata": {
        "id": "lpPgy6dwnWJ4"
      }
    },
    {
      "cell_type": "code",
      "source": [
        "import urllib.request\n",
        "url = 'https://cf-courses-data.s3.us.cloud-object-storage.appdomain.cloud/IBMDeveloperSkillsNetwork-PY0101EN-SkillsNetwork/labs/Module%204/data/example1.txt'\n",
        "filename = 'ejemplo.txt'\n",
        "urllib.request.urlretrieve(url, filename)\n",
        "\n",
        "!wget -O /resources/data/Example1.txt https://cf-courses-data.s3.us.cloud-object-storage.appdomain.cloud/IBMDeveloperSkillsNetwork-PY0101EN-SkillsNetwork/labs/Module%204/data/example1.txt"
      ],
      "metadata": {
        "colab": {
          "base_uri": "https://localhost:8080/"
        },
        "id": "XgkqVB0Lp0du",
        "outputId": "89044d02-be8a-4d6a-c38e-dee89b623b05"
      },
      "execution_count": 14,
      "outputs": [
        {
          "output_type": "stream",
          "name": "stdout",
          "text": [
            "/resources/data/Example1.txt: No such file or directory\n"
          ]
        }
      ]
    },
    {
      "cell_type": "code",
      "execution_count": 16,
      "metadata": {
        "colab": {
          "base_uri": "https://localhost:8080/",
          "height": 35
        },
        "id": "MqX8kYHknTKj",
        "outputId": "f9f62ab5-c32c-4d48-b8e9-16985916e00b"
      },
      "outputs": [
        {
          "output_type": "execute_result",
          "data": {
            "text/plain": [
              "'ejemplo.txt'"
            ],
            "application/vnd.google.colaboratory.intrinsic+json": {
              "type": "string"
            }
          },
          "metadata": {},
          "execution_count": 16
        }
      ],
      "source": [
        "# se carga el archivo y ahora podemos ver diferentes atributos como el nombre\n",
        "\n",
        "archivo = open(\"ejemplo.txt\", \"r\")\n",
        "archivo.name"
      ]
    },
    {
      "cell_type": "code",
      "source": [
        "#o el modo en el que abrimos el archivo\n",
        "archivo.mode"
      ],
      "metadata": {
        "colab": {
          "base_uri": "https://localhost:8080/",
          "height": 35
        },
        "id": "3-hks9hXtT6N",
        "outputId": "7861d4e5-a28a-499c-a63c-e8b1b4cf9817"
      },
      "execution_count": 17,
      "outputs": [
        {
          "output_type": "execute_result",
          "data": {
            "text/plain": [
              "'r'"
            ],
            "application/vnd.google.colaboratory.intrinsic+json": {
              "type": "string"
            }
          },
          "metadata": {},
          "execution_count": 17
        }
      ]
    },
    {
      "cell_type": "code",
      "source": [
        "#podemos ver también el contenido del archivo\n",
        "contenido = archivo.read()\n",
        "contenido"
      ],
      "metadata": {
        "colab": {
          "base_uri": "https://localhost:8080/",
          "height": 35
        },
        "id": "2zeudAjDt2AL",
        "outputId": "31d33c84-6352-4671-b8d4-75357f21b4c1"
      },
      "execution_count": 18,
      "outputs": [
        {
          "output_type": "execute_result",
          "data": {
            "text/plain": [
              "'This is line 1 \\nThis is line 2\\nThis is line 3'"
            ],
            "application/vnd.google.colaboratory.intrinsic+json": {
              "type": "string"
            }
          },
          "metadata": {},
          "execution_count": 18
        }
      ]
    },
    {
      "cell_type": "code",
      "source": [
        "#se puede imprimir el contenido\n",
        "print(contenido)"
      ],
      "metadata": {
        "colab": {
          "base_uri": "https://localhost:8080/"
        },
        "id": "IHWCUbjk1fJL",
        "outputId": "c95f7de1-d983-401f-ce63-baf8af421ec9"
      },
      "execution_count": 19,
      "outputs": [
        {
          "output_type": "stream",
          "name": "stdout",
          "text": [
            "This is line 1 \n",
            "This is line 2\n",
            "This is line 3\n"
          ]
        }
      ]
    },
    {
      "cell_type": "code",
      "source": [
        "#y ver el tipo de variables que tiene\n",
        "type(contenido)"
      ],
      "metadata": {
        "colab": {
          "base_uri": "https://localhost:8080/"
        },
        "id": "bBuq_Tgl16DM",
        "outputId": "d02adae2-c898-4171-f8a8-558b0bc35869"
      },
      "execution_count": 20,
      "outputs": [
        {
          "output_type": "execute_result",
          "data": {
            "text/plain": [
              "str"
            ]
          },
          "metadata": {},
          "execution_count": 20
        }
      ]
    },
    {
      "cell_type": "code",
      "source": [
        "#OJO al finalizar el archvio siempre debe de cerrarse\n",
        "archivo.close()"
      ],
      "metadata": {
        "id": "UrO2-NFs1_vp"
      },
      "execution_count": 23,
      "outputs": []
    },
    {
      "cell_type": "markdown",
      "source": [
        "Precisamente por lo anterior una mejor práctica para abrir un archivo es con la declaración \"with\" ya que después de correr todo lo que esté con sangría cerrara el archivo automáticamente."
      ],
      "metadata": {
        "id": "6WTHPQwU2ZT-"
      }
    },
    {
      "cell_type": "code",
      "source": [
        "with open(\"ejemplo.txt\", \"r\") as archivo1:\n",
        "    FileContent = archivo1.read()\n",
        "    print(FileContent)"
      ],
      "metadata": {
        "colab": {
          "base_uri": "https://localhost:8080/"
        },
        "id": "rVek_g_02zaX",
        "outputId": "6442ba9f-228f-4e44-f940-dbc5d961481d"
      },
      "execution_count": 24,
      "outputs": [
        {
          "output_type": "stream",
          "name": "stdout",
          "text": [
            "This is line 1 \n",
            "This is line 2\n",
            "This is line 3\n"
          ]
        }
      ]
    },
    {
      "cell_type": "code",
      "source": [
        "#Podemos también leer un número determinado de caracteres\n",
        "\n",
        "with open(\"ejemplo.txt\", \"r\") as archivo1:\n",
        "    print(archivo1.read(4))\n",
        "    print(archivo1.read(8))\n",
        "    print(archivo1.read(20))\n",
        "\n",
        "#como podemos observar, primero lee 4 caracteres y con la segunda línea de código lee los siguientes 8"
      ],
      "metadata": {
        "colab": {
          "base_uri": "https://localhost:8080/"
        },
        "id": "Q6zWSMh23nhG",
        "outputId": "1ed35a5d-3d77-47e1-93b1-3e680baa040f"
      },
      "execution_count": 26,
      "outputs": [
        {
          "output_type": "stream",
          "name": "stdout",
          "text": [
            "This\n",
            " is line\n",
            " 1 \n",
            "This is line 2\n",
            "T\n"
          ]
        }
      ]
    },
    {
      "cell_type": "code",
      "source": [
        "#también se puede leer una línea completa\n",
        "with open(\"ejemplo.txt\", \"r\") as archivo1:\n",
        "    print(\"línea 1: \" + archivo1.readline())\n",
        "    print(\"línea 2: \" + archivo1.readline())\n",
        "#Al igual que con la lectura de caracteres una vez que se leyó la primer línea, si volvemos a utilizad readline entonces leera\n",
        "#la segunda línea"
      ],
      "metadata": {
        "colab": {
          "base_uri": "https://localhost:8080/"
        },
        "id": "z_GIygVP4bnS",
        "outputId": "79baf93e-df5c-43c9-b0f6-ebcff80e106d"
      },
      "execution_count": 27,
      "outputs": [
        {
          "output_type": "stream",
          "name": "stdout",
          "text": [
            "línea 1: This is line 1 \n",
            "\n",
            "línea 2: This is line 2\n",
            "\n"
          ]
        }
      ]
    },
    {
      "cell_type": "code",
      "source": [
        "#también podemos leer cierto número de caracteres de una línea en específico\n",
        "with open(\"ejemplo.txt\", \"r\") as archivo1:\n",
        "    print(archivo1.readline(20)) # NOTA, aunq pongamos un argumento mayor solo se puede leer el número máximo de caracteres de la línea  \n",
        "    print(archivo1.read(20)) # mientras que si no se usa el comando readline si la línea no tiene más caracteres entonces extrae de la siguiente línea\n"
      ],
      "metadata": {
        "colab": {
          "base_uri": "https://localhost:8080/"
        },
        "id": "XwZzTBCLfQ9u",
        "outputId": "7329af90-3d88-4d89-808d-21ffaac713be"
      },
      "execution_count": 28,
      "outputs": [
        {
          "output_type": "stream",
          "name": "stdout",
          "text": [
            "This is line 1 \n",
            "\n",
            "This is line 2\n",
            "This \n"
          ]
        }
      ]
    },
    {
      "cell_type": "code",
      "source": [
        "#También podríamos usar un loop dentro para leer varias líneas\n",
        "with open(\"ejemplo.txt\",\"r\") as archivo1:\n",
        "        i = 1;\n",
        "        for line in archivo1:\n",
        "            print(\"línea \", str(i), \": \", line)\n",
        "            i = i + 1"
      ],
      "metadata": {
        "colab": {
          "base_uri": "https://localhost:8080/"
        },
        "id": "FwKXTyE2jN31",
        "outputId": "a1292db0-c863-49bc-a0ec-c4dbc640afa9"
      },
      "execution_count": 30,
      "outputs": [
        {
          "output_type": "stream",
          "name": "stdout",
          "text": [
            "línea  1 :  This is line 1 \n",
            "\n",
            "línea  2 :  This is line 2\n",
            "\n",
            "línea  3 :  This is line 3\n"
          ]
        }
      ]
    },
    {
      "cell_type": "code",
      "source": [
        "#Por último, podríamos guardar el contenido en listas\n",
        "with open(\"ejemplo.txt\",\"r\") as archivo1:\n",
        "    lista = archivo1.readlines()\n",
        "\n",
        "print (lista[0])\n",
        "print(lista[2])    "
      ],
      "metadata": {
        "colab": {
          "base_uri": "https://localhost:8080/"
        },
        "id": "I_Z2wihfjoTP",
        "outputId": "bcaba9eb-8294-47f8-dce5-899b6b5b8e94"
      },
      "execution_count": 31,
      "outputs": [
        {
          "output_type": "stream",
          "name": "stdout",
          "text": [
            "This is line 1 \n",
            "\n",
            "This is line 3\n"
          ]
        }
      ]
    },
    {
      "cell_type": "markdown",
      "source": [
        "con \"with\" también podemos escribir sobre un archivo. "
      ],
      "metadata": {
        "id": "jgDhUMFpp01c"
      }
    },
    {
      "cell_type": "code",
      "source": [
        "# Como vimos en los ejemplos anteriores cuando usamos \"open\" siempre hay que poner la extensión del archivo, \n",
        "#para mejores prácticas definimos una variable con un nombre más corto \n",
        "ej2 = 'ejemplo2.txt'\n",
        "with open(ej2, 'w') as writefile:\n",
        "    writefile.write(\"Primer línea\")\n",
        "\n",
        "#y corroboramos que se escribio en el archivo\n",
        "with open(ej2, 'r') as testwritefile:\n",
        "    print(testwritefile.read())"
      ],
      "metadata": {
        "colab": {
          "base_uri": "https://localhost:8080/"
        },
        "id": "92RvVRtsp7yT",
        "outputId": "0e2b0e9f-1361-400f-c917-79e3b0c2188a"
      },
      "execution_count": 33,
      "outputs": [
        {
          "output_type": "stream",
          "name": "stdout",
          "text": [
            "Primer línea\n"
          ]
        }
      ]
    },
    {
      "cell_type": "code",
      "source": [
        "#podemos agregar varias líneas\n",
        "with open(ej2, 'w') as w_file:\n",
        "    w_file.write(\"Primer línea\\n\")\n",
        "    w_file.write(\"Segunda línea\\n\")\n",
        "\n",
        "#y corroboramos que se ha escrito correctamente\n",
        "with open(ej2, 'r') as comprueba:\n",
        "    print(comprueba.read())"
      ],
      "metadata": {
        "colab": {
          "base_uri": "https://localhost:8080/"
        },
        "id": "2piJkLVwqmZE",
        "outputId": "77beea9a-38dd-470c-bfc7-e68163ebd7e0"
      },
      "execution_count": 35,
      "outputs": [
        {
          "output_type": "stream",
          "name": "stdout",
          "text": [
            "Primer línea\n",
            "Segunda línea\n",
            "\n"
          ]
        }
      ]
    },
    {
      "cell_type": "code",
      "source": [
        "#Podemos escribir los elementos del archivo desde una lista\n",
        "Lines = [\"Primer línea\\n\", \"Segunda línea\\n\", \"Tercer línea\\n\"]\n",
        "with open(ej2, 'w') as w_file:\n",
        "    for line in Lines:\n",
        "        w_file.write(line)\n",
        "\n",
        "#y corroboramos que se ha escrito correctamente\n",
        "with open(ej2, 'r') as comprueba:\n",
        "    print(comprueba.read())"
      ],
      "metadata": {
        "colab": {
          "base_uri": "https://localhost:8080/"
        },
        "id": "8N6v5BYrrKEi",
        "outputId": "f51d8baa-36db-4d1f-e340-5d999e75557a"
      },
      "execution_count": 46,
      "outputs": [
        {
          "output_type": "stream",
          "name": "stdout",
          "text": [
            "Primer línea\n",
            "Segunda línea\n",
            "Tercer línea\n",
            "\n"
          ]
        }
      ]
    },
    {
      "cell_type": "markdown",
      "source": [
        "No en todos los casos será conveniente el uso del parametro \"w\" ya que como se puede observar en los ejemplos anteriores, esto sobreescribe todo el archivo, si se quiere más bien ir agregando información lo más conveniente será append."
      ],
      "metadata": {
        "id": "BaI-1PftsFmF"
      }
    },
    {
      "cell_type": "code",
      "source": [
        "with open(ej2, 'a') as prueba:\n",
        "    prueba.write(\"This is line C\\n\")\n",
        "    prueba.write(\"This is line D\\n\")\n",
        "    prueba.write(\"This is line E\\n\")\n",
        "\n",
        "#y corroboramos que se ha agregado la información y no sobreescribió lo que ya contenía el archivo\n",
        "with open(ej2, 'r') as comprueba:\n",
        "    print(comprueba.read())"
      ],
      "metadata": {
        "colab": {
          "base_uri": "https://localhost:8080/"
        },
        "id": "BJqf2rxWsVCc",
        "outputId": "2f109604-ff22-4f6e-c3c1-a0310c700027"
      },
      "execution_count": 47,
      "outputs": [
        {
          "output_type": "stream",
          "name": "stdout",
          "text": [
            "Primer línea\n",
            "Segunda línea\n",
            "Tercer línea\n",
            "This is line C\n",
            "This is line D\n",
            "This is line E\n",
            "\n"
          ]
        }
      ]
    },
    {
      "cell_type": "code",
      "source": [
        "#Finalmente, con write y read podemos copiar un archivo a otro\n",
        "ej3='ejemplo3.txt'\n",
        "with open(ej2,'r') as r_file:\n",
        "    with open(ej3,'w') as w_file:\n",
        "          for line in r_file:\n",
        "                w_file.write(line)\n",
        "\n",
        "with open(ej3, 'r') as comprueba:\n",
        "    print(comprueba.read())"
      ],
      "metadata": {
        "colab": {
          "base_uri": "https://localhost:8080/"
        },
        "id": "skZ9_xg0whuU",
        "outputId": "4c85d60c-a1f7-4b96-b727-a1e6eb596f23"
      },
      "execution_count": 48,
      "outputs": [
        {
          "output_type": "stream",
          "name": "stdout",
          "text": [
            "Primer línea\n",
            "Segunda línea\n",
            "Tercer línea\n",
            "This is line C\n",
            "This is line D\n",
            "This is line E\n",
            "\n"
          ]
        }
      ]
    },
    {
      "cell_type": "markdown",
      "source": [
        "En este módulo se introduce también el uso de librerías. Se introducen algunas funciones cargadas en la libreria pandas"
      ],
      "metadata": {
        "id": "88hBUJpJzxS1"
      }
    },
    {
      "cell_type": "code",
      "source": [
        "#el alias estandar para la librería pandas es \"pd\"\n",
        "import pandas as pd\n",
        "\n",
        "df=pd.DataFrame({'a':[11,21,31],'b':[21,22,23]})\n",
        "\n",
        "#con head podemos ver los primeros 5 regustros del archivo o los primeros n si especificamos el argumento\n",
        "print(df.head())\n",
        "print(df.head(1))"
      ],
      "metadata": {
        "colab": {
          "base_uri": "https://localhost:8080/"
        },
        "id": "FdkayBh2za7u",
        "outputId": "f1eed777-8cde-4fbe-8ec6-f3e5fe51c6e1"
      },
      "execution_count": 11,
      "outputs": [
        {
          "output_type": "stream",
          "name": "stdout",
          "text": [
            "    a   b\n",
            "0  11  21\n",
            "1  21  22\n",
            "2  31  23\n",
            "    a   b\n",
            "0  11  21\n"
          ]
        }
      ]
    },
    {
      "cell_type": "code",
      "source": [
        "#Con pandas también se pueden leer archivos csv o xls con las instrucciones pd.read_excel y pd.read_csv\n",
        "\n",
        "#Una vez creado un dataframe con la función de pandas podemos crear copias del mismo o extraer ciertas columnas o renglones, por ejemplo:\n",
        "\n",
        "x = df[['a']]\n",
        "x"
      ],
      "metadata": {
        "colab": {
          "base_uri": "https://localhost:8080/",
          "height": 143
        },
        "id": "0RUdYYOw0aAT",
        "outputId": "007b8185-5ce3-453b-8647-eee31968e9b9"
      },
      "execution_count": 12,
      "outputs": [
        {
          "output_type": "execute_result",
          "data": {
            "text/plain": [
              "    a\n",
              "0  11\n",
              "1  21\n",
              "2  31"
            ],
            "text/html": [
              "\n",
              "  <div id=\"df-f3e98268-2e2e-4d36-a2c6-ca43e229b36f\">\n",
              "    <div class=\"colab-df-container\">\n",
              "      <div>\n",
              "<style scoped>\n",
              "    .dataframe tbody tr th:only-of-type {\n",
              "        vertical-align: middle;\n",
              "    }\n",
              "\n",
              "    .dataframe tbody tr th {\n",
              "        vertical-align: top;\n",
              "    }\n",
              "\n",
              "    .dataframe thead th {\n",
              "        text-align: right;\n",
              "    }\n",
              "</style>\n",
              "<table border=\"1\" class=\"dataframe\">\n",
              "  <thead>\n",
              "    <tr style=\"text-align: right;\">\n",
              "      <th></th>\n",
              "      <th>a</th>\n",
              "    </tr>\n",
              "  </thead>\n",
              "  <tbody>\n",
              "    <tr>\n",
              "      <th>0</th>\n",
              "      <td>11</td>\n",
              "    </tr>\n",
              "    <tr>\n",
              "      <th>1</th>\n",
              "      <td>21</td>\n",
              "    </tr>\n",
              "    <tr>\n",
              "      <th>2</th>\n",
              "      <td>31</td>\n",
              "    </tr>\n",
              "  </tbody>\n",
              "</table>\n",
              "</div>\n",
              "      <button class=\"colab-df-convert\" onclick=\"convertToInteractive('df-f3e98268-2e2e-4d36-a2c6-ca43e229b36f')\"\n",
              "              title=\"Convert this dataframe to an interactive table.\"\n",
              "              style=\"display:none;\">\n",
              "        \n",
              "  <svg xmlns=\"http://www.w3.org/2000/svg\" height=\"24px\"viewBox=\"0 0 24 24\"\n",
              "       width=\"24px\">\n",
              "    <path d=\"M0 0h24v24H0V0z\" fill=\"none\"/>\n",
              "    <path d=\"M18.56 5.44l.94 2.06.94-2.06 2.06-.94-2.06-.94-.94-2.06-.94 2.06-2.06.94zm-11 1L8.5 8.5l.94-2.06 2.06-.94-2.06-.94L8.5 2.5l-.94 2.06-2.06.94zm10 10l.94 2.06.94-2.06 2.06-.94-2.06-.94-.94-2.06-.94 2.06-2.06.94z\"/><path d=\"M17.41 7.96l-1.37-1.37c-.4-.4-.92-.59-1.43-.59-.52 0-1.04.2-1.43.59L10.3 9.45l-7.72 7.72c-.78.78-.78 2.05 0 2.83L4 21.41c.39.39.9.59 1.41.59.51 0 1.02-.2 1.41-.59l7.78-7.78 2.81-2.81c.8-.78.8-2.07 0-2.86zM5.41 20L4 18.59l7.72-7.72 1.47 1.35L5.41 20z\"/>\n",
              "  </svg>\n",
              "      </button>\n",
              "      \n",
              "  <style>\n",
              "    .colab-df-container {\n",
              "      display:flex;\n",
              "      flex-wrap:wrap;\n",
              "      gap: 12px;\n",
              "    }\n",
              "\n",
              "    .colab-df-convert {\n",
              "      background-color: #E8F0FE;\n",
              "      border: none;\n",
              "      border-radius: 50%;\n",
              "      cursor: pointer;\n",
              "      display: none;\n",
              "      fill: #1967D2;\n",
              "      height: 32px;\n",
              "      padding: 0 0 0 0;\n",
              "      width: 32px;\n",
              "    }\n",
              "\n",
              "    .colab-df-convert:hover {\n",
              "      background-color: #E2EBFA;\n",
              "      box-shadow: 0px 1px 2px rgba(60, 64, 67, 0.3), 0px 1px 3px 1px rgba(60, 64, 67, 0.15);\n",
              "      fill: #174EA6;\n",
              "    }\n",
              "\n",
              "    [theme=dark] .colab-df-convert {\n",
              "      background-color: #3B4455;\n",
              "      fill: #D2E3FC;\n",
              "    }\n",
              "\n",
              "    [theme=dark] .colab-df-convert:hover {\n",
              "      background-color: #434B5C;\n",
              "      box-shadow: 0px 1px 3px 1px rgba(0, 0, 0, 0.15);\n",
              "      filter: drop-shadow(0px 1px 2px rgba(0, 0, 0, 0.3));\n",
              "      fill: #FFFFFF;\n",
              "    }\n",
              "  </style>\n",
              "\n",
              "      <script>\n",
              "        const buttonEl =\n",
              "          document.querySelector('#df-f3e98268-2e2e-4d36-a2c6-ca43e229b36f button.colab-df-convert');\n",
              "        buttonEl.style.display =\n",
              "          google.colab.kernel.accessAllowed ? 'block' : 'none';\n",
              "\n",
              "        async function convertToInteractive(key) {\n",
              "          const element = document.querySelector('#df-f3e98268-2e2e-4d36-a2c6-ca43e229b36f');\n",
              "          const dataTable =\n",
              "            await google.colab.kernel.invokeFunction('convertToInteractive',\n",
              "                                                     [key], {});\n",
              "          if (!dataTable) return;\n",
              "\n",
              "          const docLinkHtml = 'Like what you see? Visit the ' +\n",
              "            '<a target=\"_blank\" href=https://colab.research.google.com/notebooks/data_table.ipynb>data table notebook</a>'\n",
              "            + ' to learn more about interactive tables.';\n",
              "          element.innerHTML = '';\n",
              "          dataTable['output_type'] = 'display_data';\n",
              "          await google.colab.output.renderOutput(dataTable, element);\n",
              "          const docLink = document.createElement('div');\n",
              "          docLink.innerHTML = docLinkHtml;\n",
              "          element.appendChild(docLink);\n",
              "        }\n",
              "      </script>\n",
              "    </div>\n",
              "  </div>\n",
              "  "
            ]
          },
          "metadata": {},
          "execution_count": 12
        }
      ]
    },
    {
      "cell_type": "code",
      "source": [
        "x = df.iloc[0:1,]\n",
        "print(x)\n"
      ],
      "metadata": {
        "colab": {
          "base_uri": "https://localhost:8080/"
        },
        "id": "9Ms1bfYbUADm",
        "outputId": "b2263001-2b19-49a3-c90d-4e8766a88146"
      },
      "execution_count": 19,
      "outputs": [
        {
          "output_type": "stream",
          "name": "stdout",
          "text": [
            "    a   b\n",
            "0  11  21\n"
          ]
        }
      ]
    }
  ]
}