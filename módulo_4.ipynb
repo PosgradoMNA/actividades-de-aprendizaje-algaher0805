{
  "nbformat": 4,
  "nbformat_minor": 0,
  "metadata": {
    "colab": {
      "provenance": [],
      "collapsed_sections": [],
      "authorship_tag": "ABX9TyNMn0g5cX63eHlGHP1V+UiV",
      "include_colab_link": true
    },
    "kernelspec": {
      "name": "python3",
      "display_name": "Python 3"
    },
    "language_info": {
      "name": "python"
    }
  },
  "cells": [
    {
      "cell_type": "markdown",
      "metadata": {
        "id": "view-in-github",
        "colab_type": "text"
      },
      "source": [
        "<a href=\"https://colab.research.google.com/github/PosgradoMNA/actividades-de-aprendizaje-algaher0805/blob/main/m%C3%B3dulo_4.ipynb\" target=\"_parent\"><img src=\"https://colab.research.google.com/assets/colab-badge.svg\" alt=\"Open In Colab\"/></a>"
      ]
    },
    {
      "cell_type": "markdown",
      "source": [
        "En el módulo 4 nos muestra inicialmente como leer archivos con la función **open** en la cuál, el primer argumento se refiere a la dirección en donde se encuentra el archivo que se desea leer, al igual que el nombre del mismo. El segundo argumento se refiere a que deseamos hacer, leer o escribir en el archivo."
      ],
      "metadata": {
        "id": "lpPgy6dwnWJ4"
      }
    },
    {
      "cell_type": "code",
      "source": [
        "import urllib.request\n",
        "url = 'https://cf-courses-data.s3.us.cloud-object-storage.appdomain.cloud/IBMDeveloperSkillsNetwork-PY0101EN-SkillsNetwork/labs/Module%204/data/example1.txt'\n",
        "filename = 'ejemplo.txt'\n",
        "urllib.request.urlretrieve(url, filename)\n",
        "\n",
        "!wget -O /resources/data/Example1.txt https://cf-courses-data.s3.us.cloud-object-storage.appdomain.cloud/IBMDeveloperSkillsNetwork-PY0101EN-SkillsNetwork/labs/Module%204/data/example1.txt"
      ],
      "metadata": {
        "colab": {
          "base_uri": "https://localhost:8080/"
        },
        "id": "XgkqVB0Lp0du",
        "outputId": "89044d02-be8a-4d6a-c38e-dee89b623b05"
      },
      "execution_count": 14,
      "outputs": [
        {
          "output_type": "stream",
          "name": "stdout",
          "text": [
            "/resources/data/Example1.txt: No such file or directory\n"
          ]
        }
      ]
    },
    {
      "cell_type": "code",
      "execution_count": 16,
      "metadata": {
        "colab": {
          "base_uri": "https://localhost:8080/",
          "height": 35
        },
        "id": "MqX8kYHknTKj",
        "outputId": "f9f62ab5-c32c-4d48-b8e9-16985916e00b"
      },
      "outputs": [
        {
          "output_type": "execute_result",
          "data": {
            "text/plain": [
              "'ejemplo.txt'"
            ],
            "application/vnd.google.colaboratory.intrinsic+json": {
              "type": "string"
            }
          },
          "metadata": {},
          "execution_count": 16
        }
      ],
      "source": [
        "# se carga el archivo y ahora podemos ver diferentes atributos como el nombre\n",
        "\n",
        "archivo = open(\"ejemplo.txt\", \"r\")\n",
        "archivo.name"
      ]
    },
    {
      "cell_type": "code",
      "source": [
        "#o el modo en el que abrimos el archivo\n",
        "archivo.mode"
      ],
      "metadata": {
        "colab": {
          "base_uri": "https://localhost:8080/",
          "height": 35
        },
        "id": "3-hks9hXtT6N",
        "outputId": "7861d4e5-a28a-499c-a63c-e8b1b4cf9817"
      },
      "execution_count": 17,
      "outputs": [
        {
          "output_type": "execute_result",
          "data": {
            "text/plain": [
              "'r'"
            ],
            "application/vnd.google.colaboratory.intrinsic+json": {
              "type": "string"
            }
          },
          "metadata": {},
          "execution_count": 17
        }
      ]
    },
    {
      "cell_type": "code",
      "source": [
        "#podemos ver también el contenido del archivo\n",
        "contenido = archivo.read()\n",
        "contenido"
      ],
      "metadata": {
        "colab": {
          "base_uri": "https://localhost:8080/",
          "height": 35
        },
        "id": "2zeudAjDt2AL",
        "outputId": "31d33c84-6352-4671-b8d4-75357f21b4c1"
      },
      "execution_count": 18,
      "outputs": [
        {
          "output_type": "execute_result",
          "data": {
            "text/plain": [
              "'This is line 1 \\nThis is line 2\\nThis is line 3'"
            ],
            "application/vnd.google.colaboratory.intrinsic+json": {
              "type": "string"
            }
          },
          "metadata": {},
          "execution_count": 18
        }
      ]
    },
    {
      "cell_type": "code",
      "source": [
        "#se puede imprimir el contenido\n",
        "print(contenido)"
      ],
      "metadata": {
        "colab": {
          "base_uri": "https://localhost:8080/"
        },
        "id": "IHWCUbjk1fJL",
        "outputId": "c95f7de1-d983-401f-ce63-baf8af421ec9"
      },
      "execution_count": 19,
      "outputs": [
        {
          "output_type": "stream",
          "name": "stdout",
          "text": [
            "This is line 1 \n",
            "This is line 2\n",
            "This is line 3\n"
          ]
        }
      ]
    },
    {
      "cell_type": "code",
      "source": [
        "#y ver el tipo de variables que tiene\n",
        "type(contenido)"
      ],
      "metadata": {
        "colab": {
          "base_uri": "https://localhost:8080/"
        },
        "id": "bBuq_Tgl16DM",
        "outputId": "d02adae2-c898-4171-f8a8-558b0bc35869"
      },
      "execution_count": 20,
      "outputs": [
        {
          "output_type": "execute_result",
          "data": {
            "text/plain": [
              "str"
            ]
          },
          "metadata": {},
          "execution_count": 20
        }
      ]
    },
    {
      "cell_type": "code",
      "source": [
        "#OJO al finalizar el archvio siempre debe de cerrarse\n",
        "archivo.close()"
      ],
      "metadata": {
        "id": "UrO2-NFs1_vp"
      },
      "execution_count": 23,
      "outputs": []
    },
    {
      "cell_type": "markdown",
      "source": [
        "Precisamente por lo anterior una mejor práctica para abrir un archivo es con la declaración \"with\" ya que después de correr todo lo que esté con sangría cerrara el archivo automáticamente."
      ],
      "metadata": {
        "id": "6WTHPQwU2ZT-"
      }
    },
    {
      "cell_type": "code",
      "source": [
        "with open(\"ejemplo.txt\", \"r\") as archivo1:\n",
        "    FileContent = archivo1.read()\n",
        "    print(FileContent)"
      ],
      "metadata": {
        "colab": {
          "base_uri": "https://localhost:8080/"
        },
        "id": "rVek_g_02zaX",
        "outputId": "6442ba9f-228f-4e44-f940-dbc5d961481d"
      },
      "execution_count": 24,
      "outputs": [
        {
          "output_type": "stream",
          "name": "stdout",
          "text": [
            "This is line 1 \n",
            "This is line 2\n",
            "This is line 3\n"
          ]
        }
      ]
    },
    {
      "cell_type": "code",
      "source": [
        "#Podemos también leer un número determinado de caracteres\n",
        "\n",
        "with open(\"ejemplo.txt\", \"r\") as archivo1:\n",
        "    print(archivo1.read(4))\n",
        "    print(archivo1.read(8))\n",
        "    print(archivo1.read(20))\n",
        "\n",
        "#como podemos observar, primero lee 4 caracteres y con la segunda línea de código lee los siguientes 8"
      ],
      "metadata": {
        "colab": {
          "base_uri": "https://localhost:8080/"
        },
        "id": "Q6zWSMh23nhG",
        "outputId": "1ed35a5d-3d77-47e1-93b1-3e680baa040f"
      },
      "execution_count": 26,
      "outputs": [
        {
          "output_type": "stream",
          "name": "stdout",
          "text": [
            "This\n",
            " is line\n",
            " 1 \n",
            "This is line 2\n",
            "T\n"
          ]
        }
      ]
    },
    {
      "cell_type": "code",
      "source": [
        "#también se puede leer una línea completa\n",
        "with open(\"ejemplo.txt\", \"r\") as archivo1:\n",
        "    print(\"línea 1: \" + archivo1.readline())\n",
        "    print(\"línea 2: \" + archivo1.readline())\n",
        "#Al igual que con la lectura de caracteres una vez que se leyó la primer línea, si volvemos a utilizad readline entonces leera\n",
        "#la segunda línea"
      ],
      "metadata": {
        "colab": {
          "base_uri": "https://localhost:8080/"
        },
        "id": "z_GIygVP4bnS",
        "outputId": "79baf93e-df5c-43c9-b0f6-ebcff80e106d"
      },
      "execution_count": 27,
      "outputs": [
        {
          "output_type": "stream",
          "name": "stdout",
          "text": [
            "línea 1: This is line 1 \n",
            "\n",
            "línea 2: This is line 2\n",
            "\n"
          ]
        }
      ]
    },
    {
      "cell_type": "code",
      "source": [
        "#también podemos leer cierto número de caracteres de una línea en específico\n",
        "with open(\"ejemplo.txt\", \"r\") as archivo1:\n",
        "    print(archivo1.readline(20)) # NOTA, aunq pongamos un argumento mayor solo se puede leer el número máximo de caracteres de la línea  \n",
        "    print(archivo1.read(20)) # mientras que si no se usa el comando readline si la línea no tiene más caracteres entonces extrae de la siguiente línea\n"
      ],
      "metadata": {
        "colab": {
          "base_uri": "https://localhost:8080/"
        },
        "id": "XwZzTBCLfQ9u",
        "outputId": "7329af90-3d88-4d89-808d-21ffaac713be"
      },
      "execution_count": 28,
      "outputs": [
        {
          "output_type": "stream",
          "name": "stdout",
          "text": [
            "This is line 1 \n",
            "\n",
            "This is line 2\n",
            "This \n"
          ]
        }
      ]
    },
    {
      "cell_type": "code",
      "source": [
        "#También podríamos usar un loop dentro para leer varias líneas\n",
        "with open(\"ejemplo.txt\",\"r\") as archivo1:\n",
        "        i = 1;\n",
        "        for line in archivo1:\n",
        "            print(\"línea \", str(i), \": \", line)\n",
        "            i = i + 1"
      ],
      "metadata": {
        "colab": {
          "base_uri": "https://localhost:8080/"
        },
        "id": "FwKXTyE2jN31",
        "outputId": "a1292db0-c863-49bc-a0ec-c4dbc640afa9"
      },
      "execution_count": 30,
      "outputs": [
        {
          "output_type": "stream",
          "name": "stdout",
          "text": [
            "línea  1 :  This is line 1 \n",
            "\n",
            "línea  2 :  This is line 2\n",
            "\n",
            "línea  3 :  This is line 3\n"
          ]
        }
      ]
    },
    {
      "cell_type": "code",
      "source": [
        "#Por último, podríamos guardar el contenido en listas\n",
        "with open(\"ejemplo.txt\",\"r\") as archivo1:\n",
        "    lista = archivo1.readlines()\n",
        "\n",
        "print (lista[0])\n",
        "print(lista[2])    "
      ],
      "metadata": {
        "colab": {
          "base_uri": "https://localhost:8080/"
        },
        "id": "I_Z2wihfjoTP",
        "outputId": "bcaba9eb-8294-47f8-dce5-899b6b5b8e94"
      },
      "execution_count": 31,
      "outputs": [
        {
          "output_type": "stream",
          "name": "stdout",
          "text": [
            "This is line 1 \n",
            "\n",
            "This is line 3\n"
          ]
        }
      ]
    },
    {
      "cell_type": "markdown",
      "source": [
        "con \"with\" también podemos escribir sobre un archivo. "
      ],
      "metadata": {
        "id": "jgDhUMFpp01c"
      }
    },
    {
      "cell_type": "code",
      "source": [
        "# Como vimos en los ejemplos anteriores cuando usamos \"open\" siempre hay que poner la extensión del archivo, \n",
        "#para mejores prácticas definimos una variable con un nombre más corto \n",
        "ej2 = 'ejemplo2.txt'\n",
        "with open(ej2, 'w') as writefile:\n",
        "    writefile.write(\"Primer línea\")\n",
        "\n",
        "#y corroboramos que se escribio en el archivo\n",
        "with open(ej2, 'r') as testwritefile:\n",
        "    print(testwritefile.read())"
      ],
      "metadata": {
        "colab": {
          "base_uri": "https://localhost:8080/"
        },
        "id": "92RvVRtsp7yT",
        "outputId": "0e2b0e9f-1361-400f-c917-79e3b0c2188a"
      },
      "execution_count": 33,
      "outputs": [
        {
          "output_type": "stream",
          "name": "stdout",
          "text": [
            "Primer línea\n"
          ]
        }
      ]
    },
    {
      "cell_type": "code",
      "source": [
        "#podemos agregar varias líneas\n",
        "with open(ej2, 'w') as w_file:\n",
        "    w_file.write(\"Primer línea\\n\")\n",
        "    w_file.write(\"Segunda línea\\n\")\n",
        "\n",
        "#y corroboramos que se ha escrito correctamente\n",
        "with open(ej2, 'r') as comprueba:\n",
        "    print(comprueba.read())"
      ],
      "metadata": {
        "colab": {
          "base_uri": "https://localhost:8080/"
        },
        "id": "2piJkLVwqmZE",
        "outputId": "77beea9a-38dd-470c-bfc7-e68163ebd7e0"
      },
      "execution_count": 35,
      "outputs": [
        {
          "output_type": "stream",
          "name": "stdout",
          "text": [
            "Primer línea\n",
            "Segunda línea\n",
            "\n"
          ]
        }
      ]
    },
    {
      "cell_type": "code",
      "source": [
        "#Podemos escribir los elementos del archivo desde una lista\n",
        "Lines = [\"Primer línea\\n\", \"Segunda línea\\n\", \"Tercer línea\\n\"]\n",
        "with open(ej2, 'w') as w_file:\n",
        "    for line in Lines:\n",
        "        w_file.write(line)\n",
        "\n",
        "#y corroboramos que se ha escrito correctamente\n",
        "with open(ej2, 'r') as comprueba:\n",
        "    print(comprueba.read())"
      ],
      "metadata": {
        "colab": {
          "base_uri": "https://localhost:8080/"
        },
        "id": "8N6v5BYrrKEi",
        "outputId": "f51d8baa-36db-4d1f-e340-5d999e75557a"
      },
      "execution_count": 46,
      "outputs": [
        {
          "output_type": "stream",
          "name": "stdout",
          "text": [
            "Primer línea\n",
            "Segunda línea\n",
            "Tercer línea\n",
            "\n"
          ]
        }
      ]
    },
    {
      "cell_type": "markdown",
      "source": [
        "No en todos los casos será conveniente el uso del parametro \"w\" ya que como se puede observar en los ejemplos anteriores, esto sobreescribe todo el archivo, si se quiere más bien ir agregando información lo más conveniente será append."
      ],
      "metadata": {
        "id": "BaI-1PftsFmF"
      }
    },
    {
      "cell_type": "code",
      "source": [
        "with open(ej2, 'a') as prueba:\n",
        "    prueba.write(\"This is line C\\n\")\n",
        "    prueba.write(\"This is line D\\n\")\n",
        "    prueba.write(\"This is line E\\n\")\n",
        "\n",
        "#y corroboramos que se ha agregado la información y no sobreescribió lo que ya contenía el archivo\n",
        "with open(ej2, 'r') as comprueba:\n",
        "    print(comprueba.read())"
      ],
      "metadata": {
        "colab": {
          "base_uri": "https://localhost:8080/"
        },
        "id": "BJqf2rxWsVCc",
        "outputId": "2f109604-ff22-4f6e-c3c1-a0310c700027"
      },
      "execution_count": 47,
      "outputs": [
        {
          "output_type": "stream",
          "name": "stdout",
          "text": [
            "Primer línea\n",
            "Segunda línea\n",
            "Tercer línea\n",
            "This is line C\n",
            "This is line D\n",
            "This is line E\n",
            "\n"
          ]
        }
      ]
    },
    {
      "cell_type": "code",
      "source": [
        "#Finalmente, con write y read podemos copiar un archivo a otro\n",
        "ej3='ejemplo3.txt'\n",
        "with open(ej2,'r') as r_file:\n",
        "    with open(ej3,'w') as w_file:\n",
        "          for line in r_file:\n",
        "                w_file.write(line)\n",
        "\n",
        "with open(ej3, 'r') as comprueba:\n",
        "    print(comprueba.read())"
      ],
      "metadata": {
        "colab": {
          "base_uri": "https://localhost:8080/"
        },
        "id": "skZ9_xg0whuU",
        "outputId": "4c85d60c-a1f7-4b96-b727-a1e6eb596f23"
      },
      "execution_count": 48,
      "outputs": [
        {
          "output_type": "stream",
          "name": "stdout",
          "text": [
            "Primer línea\n",
            "Segunda línea\n",
            "Tercer línea\n",
            "This is line C\n",
            "This is line D\n",
            "This is line E\n",
            "\n"
          ]
        }
      ]
    }
  ]
}