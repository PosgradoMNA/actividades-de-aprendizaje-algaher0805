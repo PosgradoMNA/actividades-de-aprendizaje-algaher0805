{
  "nbformat": 4,
  "nbformat_minor": 0,
  "metadata": {
    "colab": {
      "provenance": [],
      "collapsed_sections": [],
      "authorship_tag": "ABX9TyNXUS49xAACuic1yIoTSswM",
      "include_colab_link": true
    },
    "kernelspec": {
      "name": "python3",
      "display_name": "Python 3"
    },
    "language_info": {
      "name": "python"
    }
  },
  "cells": [
    {
      "cell_type": "markdown",
      "metadata": {
        "id": "view-in-github",
        "colab_type": "text"
      },
      "source": [
        "<a href=\"https://colab.research.google.com/github/PosgradoMNA/actividades-de-aprendizaje-algaher0805/blob/main/curso2_m%C3%B3dulo3.ipynb\" target=\"_parent\"><img src=\"https://colab.research.google.com/assets/colab-badge.svg\" alt=\"Open In Colab\"/></a>"
      ]
    },
    {
      "cell_type": "markdown",
      "source": [
        "#Data Analysis with Python, IBM.\n",
        "\n",
        "##Módulo 3\n",
        "\n",
        "###Alejandro García Hernández\n",
        "\n",
        "###A01793812"
      ],
      "metadata": {
        "id": "e7XBmTB2aUpR"
      }
    },
    {
      "cell_type": "markdown",
      "source": [
        "\n",
        "En el módulo 3 se introduce el concepto de **Análisis exploratorio de datos**,  el cuál se refiere al análisis de datos con la finalidad de:\n",
        "\n",
        "- resumir las principales características de los datos \n",
        "- obtener una mejor comprensión del conjunto de datos\n",
        "- descubrir relaciones entre diferentes variables\n",
        "- extraer variables importantes para el problema que estamos tratando de resolver\n",
        "\n",
        "## Estadísticas descriptivas\n",
        "Antes de invertir tiempo intentando encontrar el modelo perfecto para resolver algún problema es importante realizar un análisis de los datos. Una manera fácil de hacerlo es calcular algunos estadísticas descriptivas. El análisis estadístico descriptivo ayuda, como su nombre lo indica, a describir las características básicas de un conjunto de datos."
      ],
      "metadata": {
        "id": "U-7yo2MDa3Fa"
      }
    },
    {
      "cell_type": "code",
      "execution_count": null,
      "metadata": {
        "id": "COvr9THraT3m"
      },
      "outputs": [],
      "source": [
        "# describe nos da un pequeño pero muy útil resumen de la distribución de los datos\n",
        "\n"
      ]
    },
    {
      "cell_type": "code",
      "source": [
        "#Para las variables categoricas podemos usar value_counts()"
      ],
      "metadata": {
        "id": "ts9H_o1lq3gI"
      },
      "execution_count": null,
      "outputs": []
    },
    {
      "cell_type": "markdown",
      "source": [
        "Si bien las tablas anteriores nos dan información valiosa acerca de nuestros datos, mostrar esta información de manera visual siempre ayuda a un entendimiento rápido y fácil de los datos."
      ],
      "metadata": {
        "id": "vPEtRJMHrN57"
      }
    },
    {
      "cell_type": "code",
      "source": [
        "#boxplot"
      ],
      "metadata": {
        "id": "2jhZRot5r0IF"
      },
      "execution_count": null,
      "outputs": []
    },
    {
      "cell_type": "markdown",
      "source": [
        "Otro paso importante para entender nuestros datos es la relación que puede existir entre dos variables, una manera visual de encontrar y/o entender estas relaciones es usando diagramas de dispersión (scatter plots). En un diagrama de dispersión, generalmente establecemos la variable predictora en el eje x y establecemos la variable de destino en el eje y."
      ],
      "metadata": {
        "id": "rkyIACSZr1UI"
      }
    },
    {
      "cell_type": "code",
      "source": [
        "#scatter plot"
      ],
      "metadata": {
        "id": "Ovr7QCu1t0W_"
      },
      "execution_count": null,
      "outputs": []
    },
    {
      "cell_type": "markdown",
      "source": [
        "Otro punto importante es que a veces estamos interesados en analizar la relación entre una variable categorica a nuestra variable objetivo, para ello, primero es necesario transformar nuestros datos mediante una agrupación."
      ],
      "metadata": {
        "id": "xmYIzKbdt2oi"
      }
    }
  ]
}