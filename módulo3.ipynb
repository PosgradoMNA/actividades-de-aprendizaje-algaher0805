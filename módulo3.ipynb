{
  "nbformat": 4,
  "nbformat_minor": 0,
  "metadata": {
    "colab": {
      "provenance": [],
      "authorship_tag": "ABX9TyOfDj5I01NTeS+9USI7T4k4",
      "include_colab_link": true
    },
    "kernelspec": {
      "name": "python3",
      "display_name": "Python 3"
    },
    "language_info": {
      "name": "python"
    }
  },
  "cells": [
    {
      "cell_type": "markdown",
      "metadata": {
        "id": "view-in-github",
        "colab_type": "text"
      },
      "source": [
        "<a href=\"https://colab.research.google.com/github/PosgradoMNA/actividades-de-aprendizaje-algaher0805/blob/main/m%C3%B3dulo3.ipynb\" target=\"_parent\"><img src=\"https://colab.research.google.com/assets/colab-badge.svg\" alt=\"Open In Colab\"/></a>"
      ]
    },
    {
      "cell_type": "code",
      "source": [
        "Alejandro García Hernández A01793812"
      ],
      "metadata": {
        "id": "-wkkrSqePvqd"
      },
      "execution_count": null,
      "outputs": []
    },
    {
      "cell_type": "markdown",
      "source": [
        "En el módulo 3 se explica como se realizan comparaciones entre dos variables en Python. "
      ],
      "metadata": {
        "id": "DFkdbRdLe74M"
      }
    },
    {
      "cell_type": "code",
      "execution_count": null,
      "metadata": {
        "colab": {
          "base_uri": "https://localhost:8080/"
        },
        "id": "Dhj6JvY9e24l",
        "outputId": "9789a89c-7cc8-4976-e454-8aaad0c5409c"
      },
      "outputs": [
        {
          "output_type": "execute_result",
          "data": {
            "text/plain": [
              "True"
            ]
          },
          "metadata": {},
          "execution_count": 4
        }
      ],
      "source": [
        "#comparando dos número\n",
        "2<5"
      ]
    },
    {
      "cell_type": "code",
      "source": [
        "#comparando el valor de una variable almacenada con un número\n",
        "a=10\n",
        "a==11"
      ],
      "metadata": {
        "colab": {
          "base_uri": "https://localhost:8080/"
        },
        "id": "Z_iG7VYuff-C",
        "outputId": "9cd267da-84b7-4bd0-bba2-b77e2c80c989"
      },
      "execution_count": null,
      "outputs": [
        {
          "output_type": "execute_result",
          "data": {
            "text/plain": [
              "False"
            ]
          },
          "metadata": {},
          "execution_count": 3
        }
      ]
    },
    {
      "cell_type": "code",
      "source": [
        "#comparando dos textos\n",
        "\"Alex\"==\"alex\""
      ],
      "metadata": {
        "colab": {
          "base_uri": "https://localhost:8080/"
        },
        "id": "D9ACDZl1ggUH",
        "outputId": "09b6182f-8b92-4aed-deeb-abfd678330c3"
      },
      "execution_count": null,
      "outputs": [
        {
          "output_type": "execute_result",
          "data": {
            "text/plain": [
              "False"
            ]
          },
          "metadata": {},
          "execution_count": 5
        }
      ]
    },
    {
      "cell_type": "code",
      "source": [
        "\"Alex\"!=\"alex\""
      ],
      "metadata": {
        "colab": {
          "base_uri": "https://localhost:8080/"
        },
        "id": "_ju259UigrZ4",
        "outputId": "fb8808ec-8211-478c-bb86-f9ea64dd144f"
      },
      "execution_count": null,
      "outputs": [
        {
          "output_type": "execute_result",
          "data": {
            "text/plain": [
              "True"
            ]
          },
          "metadata": {},
          "execution_count": 6
        }
      ]
    },
    {
      "cell_type": "markdown",
      "source": [
        "Otro tema del módulo 3 es la ramificación con el comando if/else con el cuál podemos asignar multiples condiciones para que algún segmento de código se ejecute solo cuando se cumplen ciertas condiciones"
      ],
      "metadata": {
        "id": "O9EQltpMh6lW"
      }
    },
    {
      "cell_type": "code",
      "source": [
        "#en este ejmplo se pide que ingreses tu nombre y se especifica si es un nombre largo o corto\n",
        "nombre=\"Alex\"\n",
        "if(len(nombre)>=6):\n",
        "  print(\"Tu nombre es largo\")\n",
        "else:\n",
        "  print(\"Tu nombre es corto\")\n"
      ],
      "metadata": {
        "colab": {
          "base_uri": "https://localhost:8080/"
        },
        "id": "rV8FRDheiiwj",
        "outputId": "ddff295d-78e1-43bc-f5c3-16ca16f7b28f"
      },
      "execution_count": null,
      "outputs": [
        {
          "output_type": "stream",
          "name": "stdout",
          "text": [
            "Tu nombre es corto\n"
          ]
        }
      ]
    },
    {
      "cell_type": "code",
      "source": [
        "#en este ejmplo se pide que ingreses tu nombre y se especifica si es un nombre largo o corto\n",
        "nombre=\"Alejandro\"\n",
        "if(len(nombre)>6):\n",
        "  print(\"Tu nombre es largo\")\n",
        "elif(len(nombre)==6):\n",
        "  print(\"Tu nombre es de tamaño estandar\")\n",
        "else:\n",
        "  print(\"tu nombre es corto\")"
      ],
      "metadata": {
        "colab": {
          "base_uri": "https://localhost:8080/"
        },
        "id": "LiyYmennjS3M",
        "outputId": "650d8712-1149-4f2a-8119-0bf0b3224314"
      },
      "execution_count": null,
      "outputs": [
        {
          "output_type": "stream",
          "name": "stdout",
          "text": [
            "Tu nombre es largo\n"
          ]
        }
      ]
    },
    {
      "cell_type": "markdown",
      "source": [
        "En este módulo también se muestran los operadores lógicos or y and"
      ],
      "metadata": {
        "id": "lEt2R4kqpPqb"
      }
    },
    {
      "cell_type": "code",
      "source": [
        "# para que and nos devuelva True es necesario que ambas condiciones se cumplan\n",
        "x=13\n",
        "x>15 and x < 20"
      ],
      "metadata": {
        "colab": {
          "base_uri": "https://localhost:8080/"
        },
        "id": "uFgkKBLVpue1",
        "outputId": "d45ca51d-04a8-4d34-921d-7231341df561"
      },
      "execution_count": null,
      "outputs": [
        {
          "output_type": "execute_result",
          "data": {
            "text/plain": [
              "False"
            ]
          },
          "metadata": {},
          "execution_count": 16
        }
      ]
    },
    {
      "cell_type": "code",
      "source": [
        "# mientras que en el or basta con que una de las dos condiciones se cumplan\n",
        "x=13\n",
        "x>15 or x < 20"
      ],
      "metadata": {
        "colab": {
          "base_uri": "https://localhost:8080/"
        },
        "id": "_dRativWr7LS",
        "outputId": "04fda67c-16af-4464-c678-47366ce2b707"
      },
      "execution_count": null,
      "outputs": [
        {
          "output_type": "execute_result",
          "data": {
            "text/plain": [
              "True"
            ]
          },
          "metadata": {},
          "execution_count": 17
        }
      ]
    },
    {
      "cell_type": "markdown",
      "source": [
        "En el módulo 3 también se muestra el uso de loops, específicamente for y while"
      ],
      "metadata": {
        "id": "Upz3eiaw2Jdx"
      }
    },
    {
      "cell_type": "code",
      "source": [
        "#para el for se introduce el concepto de rango\n",
        "for i in range(0,10):\n",
        "  print(i)\n",
        "        "
      ],
      "metadata": {
        "colab": {
          "base_uri": "https://localhost:8080/"
        },
        "id": "W8URXnKr2QDE",
        "outputId": "f47c4bcf-b20d-47a6-d38b-3821ef961ee7"
      },
      "execution_count": null,
      "outputs": [
        {
          "output_type": "stream",
          "name": "stdout",
          "text": [
            "0\n",
            "1\n",
            "2\n",
            "3\n",
            "4\n",
            "5\n",
            "6\n",
            "7\n",
            "8\n",
            "9\n"
          ]
        }
      ]
    },
    {
      "cell_type": "code",
      "source": [
        "lista=[\"a\",\"b\",\"c\",\"d\"]\n",
        "for x in lista:\n",
        "  if(x==\"c\"):\n",
        "    print(\"valor buscado\")\n",
        "  else:\n",
        "    print(\"NA\")"
      ],
      "metadata": {
        "colab": {
          "base_uri": "https://localhost:8080/"
        },
        "id": "qZTT6Ueh3JUY",
        "outputId": "edb797bb-ae67-4ba3-efa6-6088930fddde"
      },
      "execution_count": null,
      "outputs": [
        {
          "output_type": "stream",
          "name": "stdout",
          "text": [
            "NA\n",
            "NA\n",
            "valor buscado\n",
            "NA\n"
          ]
        }
      ]
    },
    {
      "cell_type": "code",
      "source": [
        "#En cuanto al while, la diferencia es que este iterará hasta que la condición lógica se cumpla, a comparación del for que se itera un número específico de veces\n",
        "i=0\n",
        "while(lista[i]!=\"c\"):\n",
        "  print(\"NA\")\n",
        "  i=i+1"
      ],
      "metadata": {
        "colab": {
          "base_uri": "https://localhost:8080/"
        },
        "id": "pG8e2EHA5JgW",
        "outputId": "aaa0f466-ad83-4e5b-ffe2-3ee75a32f0c2"
      },
      "execution_count": null,
      "outputs": [
        {
          "output_type": "stream",
          "name": "stdout",
          "text": [
            "NA\n",
            "NA\n"
          ]
        }
      ]
    },
    {
      "cell_type": "markdown",
      "source": [
        "Finalmente en este módulo se introduce el concepto de funciones"
      ],
      "metadata": {
        "id": "_pxfHXBt6Ovl"
      }
    },
    {
      "cell_type": "code",
      "source": [
        "#para generar una función siempre se comenzará con la palabra clave \"def\", seguido por el nombre que queramos asignara a la función y finalmente, entre \n",
        "#paréntesis, los argumentos que recibirá la función entre paréntesis. Al final de la función se debe especificar el valor de retorno con el comando \"return\"\n",
        "\n",
        "def concatenar(x,y):\n",
        "  z=x+y\n",
        "  return z\n",
        "\n",
        "concatenar(\"al\",\"ex\")"
      ],
      "metadata": {
        "colab": {
          "base_uri": "https://localhost:8080/",
          "height": 35
        },
        "id": "7DYQBgV2-gHP",
        "outputId": "06409d10-898d-4044-8488-55852c980de8"
      },
      "execution_count": null,
      "outputs": [
        {
          "output_type": "execute_result",
          "data": {
            "text/plain": [
              "'alex'"
            ],
            "application/vnd.google.colaboratory.intrinsic+json": {
              "type": "string"
            }
          },
          "metadata": {},
          "execution_count": 23
        }
      ]
    },
    {
      "cell_type": "code",
      "source": [
        "def f(*x):\n",
        "\n",
        "  return sum(x)\n",
        "\n",
        "x=[1,2,3]\n",
        "f(*x)"
      ],
      "metadata": {
        "colab": {
          "base_uri": "https://localhost:8080/"
        },
        "id": "fqDqbboA_zpz",
        "outputId": "fe678897-9065-4b56-e8d6-e7e199be1082"
      },
      "execution_count": null,
      "outputs": [
        {
          "output_type": "execute_result",
          "data": {
            "text/plain": [
              "6"
            ]
          },
          "metadata": {},
          "execution_count": 28
        }
      ]
    }
  ]
}