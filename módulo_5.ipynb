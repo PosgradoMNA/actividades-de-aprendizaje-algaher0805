{
  "nbformat": 4,
  "nbformat_minor": 0,
  "metadata": {
    "colab": {
      "provenance": [],
      "collapsed_sections": [],
      "authorship_tag": "ABX9TyPes53U/AxYC7KctTApEcK5",
      "include_colab_link": true
    },
    "kernelspec": {
      "name": "python3",
      "display_name": "Python 3"
    },
    "language_info": {
      "name": "python"
    }
  },
  "cells": [
    {
      "cell_type": "markdown",
      "metadata": {
        "id": "view-in-github",
        "colab_type": "text"
      },
      "source": [
        "<a href=\"https://colab.research.google.com/github/PosgradoMNA/actividades-de-aprendizaje-algaher0805/blob/main/m%C3%B3dulo_5.ipynb\" target=\"_parent\"><img src=\"https://colab.research.google.com/assets/colab-badge.svg\" alt=\"Open In Colab\"/></a>"
      ]
    },
    {
      "cell_type": "markdown",
      "source": [
        "El módulo 5 comienza mostrando un array en numpy(numpy es una libreria de python usada para trabajar con arrays y matrices), el cuál es similar a una lista, y al igual que en una lista, se puede acceder a cada uno de sus elementos mediante un indíce"
      ],
      "metadata": {
        "id": "BTFjXuSAEnI_"
      }
    },
    {
      "cell_type": "code",
      "execution_count": 2,
      "metadata": {
        "colab": {
          "base_uri": "https://localhost:8080/"
        },
        "id": "KCfbaHiREQFr",
        "outputId": "fc4912e9-7813-481f-d88b-d4a976959794"
      },
      "outputs": [
        {
          "output_type": "stream",
          "name": "stdout",
          "text": [
            "4\n",
            "8\n"
          ]
        }
      ],
      "source": [
        "#la abreviación estandar para numpy es np\n",
        "import numpy as np\n",
        "x=np.array([4,5,6,7,8,12])\n",
        "print(x[0])\n",
        "print(x[4])"
      ]
    },
    {
      "cell_type": "code",
      "source": [
        "#si obtenemos el tipo de datos de x obtenemos\n",
        "type(x)"
      ],
      "metadata": {
        "colab": {
          "base_uri": "https://localhost:8080/"
        },
        "id": "bGaiwgIBGB0Y",
        "outputId": "daec6917-030c-457c-e14f-1a9fc4b1852f"
      },
      "execution_count": null,
      "outputs": [
        {
          "output_type": "execute_result",
          "data": {
            "text/plain": [
              "numpy.ndarray"
            ]
          },
          "metadata": {},
          "execution_count": 2
        }
      ]
    },
    {
      "cell_type": "code",
      "source": [
        "#Esto era obvio porque nosotros lo creamos pero si este no hubiera sido el caso esta función es útil,  \n",
        "#también, si queremos saber el tipo de datos que contiene este arreglo utilizamos la siguiente función:\n",
        "x.dtype\n"
      ],
      "metadata": {
        "colab": {
          "base_uri": "https://localhost:8080/"
        },
        "id": "R6zqyfSmGTVf",
        "outputId": "9496715e-1d3c-49a3-d962-3a0c4372bfa4"
      },
      "execution_count": null,
      "outputs": [
        {
          "output_type": "execute_result",
          "data": {
            "text/plain": [
              "dtype('int64')"
            ]
          },
          "metadata": {},
          "execution_count": 4
        }
      ]
    },
    {
      "cell_type": "code",
      "source": [
        "#podemos obtener algunos datos interesantes acerca del tamaño y dimensiones del arreglo con las siguientes funciones\n",
        "print(x.size)\n",
        "print(x.ndim)\n",
        "print(x.shape)"
      ],
      "metadata": {
        "colab": {
          "base_uri": "https://localhost:8080/"
        },
        "id": "JnvCTsK9G9j_",
        "outputId": "4da3002c-b43c-4a06-e41c-62c72fd2e855"
      },
      "execution_count": null,
      "outputs": [
        {
          "output_type": "stream",
          "name": "stdout",
          "text": [
            "6\n",
            "1\n",
            "(6,)\n"
          ]
        }
      ]
    },
    {
      "cell_type": "code",
      "source": [
        "#para sustituir alguno de los valores del arreglo simplemente hacemos referencia al elemento mediante el # de índice y asignamos el nuevo valor\n",
        "x[5]=0\n",
        "x"
      ],
      "metadata": {
        "colab": {
          "base_uri": "https://localhost:8080/"
        },
        "id": "WLomPJjDHwBn",
        "outputId": "47abf3b5-87e6-49e0-81dd-774c4febdd4a"
      },
      "execution_count": null,
      "outputs": [
        {
          "output_type": "execute_result",
          "data": {
            "text/plain": [
              "array([4, 5, 6, 7, 8, 0])"
            ]
          },
          "metadata": {},
          "execution_count": 7
        }
      ]
    },
    {
      "cell_type": "code",
      "source": [
        "#para obtener subconjuntos del arreglo:\n",
        "y=x[1:3]\n",
        "y\n",
        "#al iguan que en las listas, el nuevo subconjunto contendrá los elementos entre el primero y hasta el numero previo al segundo específicado en los parámetros,\n",
        "#en este caso, se observa que el subconjunto consta de los elementos 1 y 2 del conjunto original."
      ],
      "metadata": {
        "colab": {
          "base_uri": "https://localhost:8080/"
        },
        "id": "EUO_zwGMIPAM",
        "outputId": "4fc61bc5-d153-4b3c-b723-e461dc01292c"
      },
      "execution_count": null,
      "outputs": [
        {
          "output_type": "execute_result",
          "data": {
            "text/plain": [
              "array([5, 6])"
            ]
          },
          "metadata": {},
          "execution_count": 9
        }
      ]
    },
    {
      "cell_type": "markdown",
      "source": [
        "Una ventaja de la libreria numpy es que generalme realiza más rápido algunas de las operaciones que con las funciones normales de python, además que también necesitan menos memoria. "
      ],
      "metadata": {
        "id": "dlXBrp5LJOBg"
      }
    },
    {
      "cell_type": "code",
      "source": [
        "#Una de estas operaciones es la suma y resta de dos vectores\n",
        "x=np.array([9,1])\n",
        "y=np.array([2,6])\n",
        "z=x+y\n",
        "print(z)\n",
        "w=x-y\n",
        "print(w)\n"
      ],
      "metadata": {
        "colab": {
          "base_uri": "https://localhost:8080/"
        },
        "id": "XRCCLJw2KSWr",
        "outputId": "f17d14d6-f951-455e-84f0-022f3abdff4b"
      },
      "execution_count": null,
      "outputs": [
        {
          "output_type": "stream",
          "name": "stdout",
          "text": [
            "[11  7]\n",
            "[ 7 -5]\n"
          ]
        }
      ]
    },
    {
      "cell_type": "code",
      "source": [
        "#También se puede multiplicar los vectores por un escalar\n",
        "z=3*x\n",
        "z"
      ],
      "metadata": {
        "colab": {
          "base_uri": "https://localhost:8080/"
        },
        "id": "1Cayja2pK9kI",
        "outputId": "3d9b875e-ca29-45be-c6ea-c5931308da21"
      },
      "execution_count": null,
      "outputs": [
        {
          "output_type": "execute_result",
          "data": {
            "text/plain": [
              "array([27,  3])"
            ]
          },
          "metadata": {},
          "execution_count": 13
        }
      ]
    },
    {
      "cell_type": "code",
      "source": [
        "#se puede multiplicar las entradas de dos vectores\n",
        "z=x*y\n",
        "print(z)\n",
        "#o se puede obtener el producto punto\n",
        "w=np.dot(x,y)\n",
        "print(w)"
      ],
      "metadata": {
        "colab": {
          "base_uri": "https://localhost:8080/"
        },
        "id": "oXzNSoyVLnQe",
        "outputId": "e96472ad-6aa1-4061-c106-e31815097135"
      },
      "execution_count": null,
      "outputs": [
        {
          "output_type": "stream",
          "name": "stdout",
          "text": [
            "[18  6]\n",
            "24\n"
          ]
        }
      ]
    },
    {
      "cell_type": "markdown",
      "source": [
        "Otro de los conceptos que se introducen en el curso es el de las funciones universales, las cuales se refieren a las funciones que se pueden aplicar a los arreglos de numpy."
      ],
      "metadata": {
        "id": "gYzA2gZbMr5g"
      }
    },
    {
      "cell_type": "code",
      "source": [
        "#algunas funciones universales son:\n",
        "a=x.mean()\n",
        "b=x.max()\n",
        "print(a)\n",
        "print(b)\n"
      ],
      "metadata": {
        "colab": {
          "base_uri": "https://localhost:8080/"
        },
        "id": "dMhaF8P9NT5z",
        "outputId": "058d487b-a0b9-4d40-a372-8a91644d6b16"
      },
      "execution_count": null,
      "outputs": [
        {
          "output_type": "stream",
          "name": "stdout",
          "text": [
            "5.0\n",
            "9\n"
          ]
        }
      ]
    },
    {
      "cell_type": "code",
      "source": [
        "#otra función útil de numpy es linspace que devuelve un conjunto de x datos (x es el tercer agumento de la función), \n",
        "# entre los números ingresados como argumentos \n",
        "a=np.linspace(0,10,num=4)\n",
        "a"
      ],
      "metadata": {
        "colab": {
          "base_uri": "https://localhost:8080/"
        },
        "id": "yLu2e6WpOM9s",
        "outputId": "2a21facd-11f1-4327-dd2e-ce5baa720250"
      },
      "execution_count": null,
      "outputs": [
        {
          "output_type": "execute_result",
          "data": {
            "text/plain": [
              "array([ 0.        ,  3.33333333,  6.66666667, 10.        ])"
            ]
          },
          "metadata": {},
          "execution_count": 21
        }
      ]
    },
    {
      "cell_type": "code",
      "source": [
        "np.dot(np.array([1,-1]),np.array([1,1]))"
      ],
      "metadata": {
        "colab": {
          "base_uri": "https://localhost:8080/"
        },
        "id": "a6GEKhUdPglu",
        "outputId": "ef0cb2ee-6483-447e-b09e-6bdb6b3f4e03"
      },
      "execution_count": null,
      "outputs": [
        {
          "output_type": "execute_result",
          "data": {
            "text/plain": [
              "0"
            ]
          },
          "metadata": {},
          "execution_count": 23
        }
      ]
    },
    {
      "cell_type": "markdown",
      "source": [
        "En ester módulo también se muestra como crear arreglos 2D con numpy"
      ],
      "metadata": {
        "id": "9Aw4dQbdMr1R"
      }
    },
    {
      "cell_type": "code",
      "source": [
        "#el siguiente código crea un arreglo en 2 domenciones\n",
        "x=[[5,6,7],[1,5,90],[2,4,0]]\n",
        "x=np.array(x)\n",
        "x"
      ],
      "metadata": {
        "colab": {
          "base_uri": "https://localhost:8080/"
        },
        "id": "EJohnUDLOeG9",
        "outputId": "1cd43220-71f6-4a5c-d9b6-9a6df81ff41b"
      },
      "execution_count": null,
      "outputs": [
        {
          "output_type": "execute_result",
          "data": {
            "text/plain": [
              "array([[ 5,  6,  7],\n",
              "       [ 1,  5, 90],\n",
              "       [ 2,  4,  0]])"
            ]
          },
          "metadata": {},
          "execution_count": 3
        }
      ]
    },
    {
      "cell_type": "code",
      "source": [
        "#podemos obtener la dimensión y el tamaño del arreglo de la sguiente manera\n",
        "print(x.ndim)\n",
        "print(x.size)"
      ],
      "metadata": {
        "colab": {
          "base_uri": "https://localhost:8080/"
        },
        "id": "yZ9ZjdIxPbio",
        "outputId": "184e9a06-c5cd-4858-d2be-3b095d548b50"
      },
      "execution_count": null,
      "outputs": [
        {
          "output_type": "stream",
          "name": "stdout",
          "text": [
            "2\n",
            "9\n"
          ]
        }
      ]
    },
    {
      "cell_type": "code",
      "source": [
        "#al igual que los arreglos de una dimensión, se puede acceder a cualquier elemento del arreglo de la siguiente manera:\n",
        "x[1,2]\n",
        "#el primer índice se refiere al renglón y el segundo índice a la columna"
      ],
      "metadata": {
        "colab": {
          "base_uri": "https://localhost:8080/"
        },
        "id": "Re3Ys62XQyOs",
        "outputId": "24fa8091-3736-48be-dbd6-257656cdda1f"
      },
      "execution_count": null,
      "outputs": [
        {
          "output_type": "execute_result",
          "data": {
            "text/plain": [
              "90"
            ]
          },
          "metadata": {},
          "execution_count": 5
        }
      ]
    },
    {
      "cell_type": "code",
      "source": [
        "#para obtener subconjuntos del arreglo se utilizan los índices de la siguiente manera\n",
        "x[2,1:3]\n",
        "#aquí obtenemos los registros 2 y 3 del último renglón"
      ],
      "metadata": {
        "colab": {
          "base_uri": "https://localhost:8080/"
        },
        "id": "g0RCkM44RE_S",
        "outputId": "fcee412c-b869-4653-ed39-59016095715b"
      },
      "execution_count": null,
      "outputs": [
        {
          "output_type": "execute_result",
          "data": {
            "text/plain": [
              "array([4, 0])"
            ]
          },
          "metadata": {},
          "execution_count": 7
        }
      ]
    },
    {
      "cell_type": "code",
      "source": [
        "#o podemos obtener la segunda columna completa\n",
        "print(x[0:3,1])\n",
        "#o bien\n",
        "print(x[:,1])"
      ],
      "metadata": {
        "colab": {
          "base_uri": "https://localhost:8080/"
        },
        "id": "4dixMgAGRlda",
        "outputId": "4b6d95ae-0f79-41d8-8881-bfbd7686eb4b"
      },
      "execution_count": null,
      "outputs": [
        {
          "output_type": "stream",
          "name": "stdout",
          "text": [
            "[6 5 4]\n",
            "[6 5 4]\n"
          ]
        }
      ]
    },
    {
      "cell_type": "code",
      "source": [
        "#los arreglos de dos dimensiones pueden sumarse, restarse o multiplicarse por un escalar al igual que una matriz\n",
        "\n",
        "y=np.array([[1,3,4],[2,0,6],[12,3,3]])\n",
        "print(y)\n",
        "print(x+y)\n",
        "print(3*x)"
      ],
      "metadata": {
        "colab": {
          "base_uri": "https://localhost:8080/"
        },
        "id": "wSw25ipdSPFC",
        "outputId": "9589c23b-86c7-402b-b8dc-826d76bffe32"
      },
      "execution_count": null,
      "outputs": [
        {
          "output_type": "stream",
          "name": "stdout",
          "text": [
            "[[ 1  3  4]\n",
            " [ 2  0  6]\n",
            " [12  3  3]]\n",
            "[[ 6  9 11]\n",
            " [ 3  5 96]\n",
            " [14  7  3]]\n",
            "[[ 15  18  21]\n",
            " [  3  15 270]\n",
            " [  6  12   0]]\n"
          ]
        }
      ]
    },
    {
      "cell_type": "code",
      "source": [
        "#también se pueden multiplicar los arreglos entrada a entrada\n",
        "x*y"
      ],
      "metadata": {
        "colab": {
          "base_uri": "https://localhost:8080/"
        },
        "id": "Ghp9ldV8TziK",
        "outputId": "6c66369c-6438-4ebe-9d33-926f631bf277"
      },
      "execution_count": null,
      "outputs": [
        {
          "output_type": "execute_result",
          "data": {
            "text/plain": [
              "array([[  5,  18,  28],\n",
              "       [  2,   0, 540],\n",
              "       [ 24,  12,   0]])"
            ]
          },
          "metadata": {},
          "execution_count": 19
        }
      ]
    },
    {
      "cell_type": "code",
      "source": [
        "#También se puede hacer multiplicación de dos arreglos como si fuera multiplicación matricial de la siguiente manera\n",
        "\n",
        "x=np.array([[1,2,3],[7,8,9]])\n",
        "y=np.array([[2,3],[3,4],[7,3]])\n",
        "z=np.dot(x,y)\n",
        "z"
      ],
      "metadata": {
        "colab": {
          "base_uri": "https://localhost:8080/"
        },
        "id": "Ly9L4JJzHTKC",
        "outputId": "f11b706b-da6f-46b7-f0d1-c0595ba2ff93"
      },
      "execution_count": null,
      "outputs": [
        {
          "output_type": "execute_result",
          "data": {
            "text/plain": [
              "array([[ 29,  20],\n",
              "       [101,  80]])"
            ]
          },
          "metadata": {},
          "execution_count": 3
        }
      ]
    },
    {
      "cell_type": "markdown",
      "source": [
        "Otro tema que se aborda en el módulo son las API, una API es una forma de comunicación software-software. Estos códigos son un cliente y el servicio web es un recurso. El cliente encuentra el servicio a través de un punto final. Los métodos HTTP son una forma de transmitir datos a través de Internet. A las API REST (El RE significa Representacional, la S significa Estado, la T significa Transferencia) se les da las intrucciones de qué hacer mediante el envío de una solicitud. La solicitud generalmente se comunica a través de un mensaje HTTP y este  mensaje generalmente contiene un archivo JSON. Este, contiene instrucciones para las operación que nos gustaría que el servicio realizara y esta operación se transmite al servicio web a través de Internet. El servicio realiza la operación y de manera análoga devuelve la información"
      ],
      "metadata": {
        "id": "GYqu1yL1NZUu"
      }
    },
    {
      "cell_type": "markdown",
      "source": [
        "También se muestra un ejemplo de la API watson para transcribir un audio y la aplicación watson para traducir un texto. Para ejemplificar primero nos describen que debe de haber una llave de acceso para los usuarios autorizados para ingresar a la API,"
      ],
      "metadata": {
        "id": "EJsX_4DdO67N"
      }
    },
    {
      "cell_type": "markdown",
      "source": [
        "![calificación_mod5.png](data:image/png;base64,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)"
      ],
      "metadata": {
        "id": "QF_5fLhJRmlu"
      }
    }
  ]
}