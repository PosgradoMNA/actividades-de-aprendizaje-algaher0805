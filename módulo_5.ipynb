{
  "nbformat": 4,
  "nbformat_minor": 0,
  "metadata": {
    "colab": {
      "provenance": [],
      "collapsed_sections": [],
      "authorship_tag": "ABX9TyMYTBu8e0PTgNM+BvQr87bE",
      "include_colab_link": true
    },
    "kernelspec": {
      "name": "python3",
      "display_name": "Python 3"
    },
    "language_info": {
      "name": "python"
    }
  },
  "cells": [
    {
      "cell_type": "markdown",
      "metadata": {
        "id": "view-in-github",
        "colab_type": "text"
      },
      "source": [
        "<a href=\"https://colab.research.google.com/github/PosgradoMNA/actividades-de-aprendizaje-algaher0805/blob/main/m%C3%B3dulo_5.ipynb\" target=\"_parent\"><img src=\"https://colab.research.google.com/assets/colab-badge.svg\" alt=\"Open In Colab\"/></a>"
      ]
    },
    {
      "cell_type": "markdown",
      "source": [
        "El módulo 5 comienza mostrando un array en numpy(numpy es una libreria de python usada para trabajar con arrays y matrices), el cuál es similar a una lista, y al igual que en una lista, se puede acceder a cada uno de sus elementos mediante un indíce"
      ],
      "metadata": {
        "id": "BTFjXuSAEnI_"
      }
    },
    {
      "cell_type": "code",
      "execution_count": 1,
      "metadata": {
        "colab": {
          "base_uri": "https://localhost:8080/"
        },
        "id": "KCfbaHiREQFr",
        "outputId": "9e542953-49f8-4860-a658-9a0415954a1d"
      },
      "outputs": [
        {
          "output_type": "stream",
          "name": "stdout",
          "text": [
            "4\n",
            "8\n"
          ]
        }
      ],
      "source": [
        "#la abreviación estandar para numpy es np\n",
        "import numpy as np\n",
        "x=np.array([4,5,6,7,8,12])\n",
        "print(x[0])\n",
        "print(x[4])"
      ]
    },
    {
      "cell_type": "code",
      "source": [
        "#si obtenemos el tipo de datos de x obtenemos\n",
        "type(x)"
      ],
      "metadata": {
        "colab": {
          "base_uri": "https://localhost:8080/"
        },
        "id": "bGaiwgIBGB0Y",
        "outputId": "daec6917-030c-457c-e14f-1a9fc4b1852f"
      },
      "execution_count": 2,
      "outputs": [
        {
          "output_type": "execute_result",
          "data": {
            "text/plain": [
              "numpy.ndarray"
            ]
          },
          "metadata": {},
          "execution_count": 2
        }
      ]
    },
    {
      "cell_type": "code",
      "source": [
        "#Esto era obvio porque nosotros lo creamos pero si este no hubiera sido el caso esta función es útil,  \n",
        "#también, si queremos saber el tipo de datos que contiene este arreglo utilizamos la siguiente función:\n",
        "x.dtype\n"
      ],
      "metadata": {
        "colab": {
          "base_uri": "https://localhost:8080/"
        },
        "id": "R6zqyfSmGTVf",
        "outputId": "9496715e-1d3c-49a3-d962-3a0c4372bfa4"
      },
      "execution_count": 4,
      "outputs": [
        {
          "output_type": "execute_result",
          "data": {
            "text/plain": [
              "dtype('int64')"
            ]
          },
          "metadata": {},
          "execution_count": 4
        }
      ]
    },
    {
      "cell_type": "code",
      "source": [
        "#podemos obtener algunos datos interesantes acerca del tamaño y dimenciones del arreglo con las siguientes funciones\n",
        "print(x.size)\n",
        "print(x.ndim)\n",
        "print(x.shape)"
      ],
      "metadata": {
        "colab": {
          "base_uri": "https://localhost:8080/"
        },
        "id": "JnvCTsK9G9j_",
        "outputId": "4da3002c-b43c-4a06-e41c-62c72fd2e855"
      },
      "execution_count": 5,
      "outputs": [
        {
          "output_type": "stream",
          "name": "stdout",
          "text": [
            "6\n",
            "1\n",
            "(6,)\n"
          ]
        }
      ]
    },
    {
      "cell_type": "code",
      "source": [
        "#para sustituir alguno de los valores del arreglo simplemente hacemos referencia al elemento mediante el # de índice y asignamos el nuevo valor\n",
        "x[5]=0\n",
        "x"
      ],
      "metadata": {
        "colab": {
          "base_uri": "https://localhost:8080/"
        },
        "id": "WLomPJjDHwBn",
        "outputId": "47abf3b5-87e6-49e0-81dd-774c4febdd4a"
      },
      "execution_count": 7,
      "outputs": [
        {
          "output_type": "execute_result",
          "data": {
            "text/plain": [
              "array([4, 5, 6, 7, 8, 0])"
            ]
          },
          "metadata": {},
          "execution_count": 7
        }
      ]
    },
    {
      "cell_type": "code",
      "source": [
        "#para obtener subconjuntos del arreglo:\n",
        "y=x[1:3]\n",
        "y\n",
        "#al iguan que en las listas, el nuevo subconjunto contendrá los elementos entre el primero y hasta el numero previo al segundo específicado en los parámetros,\n",
        "#en este caso, se observa que el subconjunto consta de los elementos 1 y 2 del conjunto original."
      ],
      "metadata": {
        "colab": {
          "base_uri": "https://localhost:8080/"
        },
        "id": "EUO_zwGMIPAM",
        "outputId": "4fc61bc5-d153-4b3c-b723-e461dc01292c"
      },
      "execution_count": 9,
      "outputs": [
        {
          "output_type": "execute_result",
          "data": {
            "text/plain": [
              "array([5, 6])"
            ]
          },
          "metadata": {},
          "execution_count": 9
        }
      ]
    },
    {
      "cell_type": "markdown",
      "source": [
        "Una ventaja de la libreria numpy es que generalme realiza más rápido algunas de las operaciones que con las funciones normales de python, además que también necesitan menos memoria. "
      ],
      "metadata": {
        "id": "dlXBrp5LJOBg"
      }
    },
    {
      "cell_type": "code",
      "source": [
        "#Una de estas operaciones es la suma y resta de dos vectores\n",
        "x=np.array([9,1])\n",
        "y=np.array([2,6])\n",
        "z=x+y\n",
        "print(z)\n",
        "w=x-y\n",
        "print(w)\n"
      ],
      "metadata": {
        "colab": {
          "base_uri": "https://localhost:8080/"
        },
        "id": "XRCCLJw2KSWr",
        "outputId": "f17d14d6-f951-455e-84f0-022f3abdff4b"
      },
      "execution_count": 11,
      "outputs": [
        {
          "output_type": "stream",
          "name": "stdout",
          "text": [
            "[11  7]\n",
            "[ 7 -5]\n"
          ]
        }
      ]
    },
    {
      "cell_type": "code",
      "source": [
        "#También se puede multiplicar los vectores por un escalar\n",
        "z=3*x\n",
        "z"
      ],
      "metadata": {
        "colab": {
          "base_uri": "https://localhost:8080/"
        },
        "id": "1Cayja2pK9kI",
        "outputId": "3d9b875e-ca29-45be-c6ea-c5931308da21"
      },
      "execution_count": 13,
      "outputs": [
        {
          "output_type": "execute_result",
          "data": {
            "text/plain": [
              "array([27,  3])"
            ]
          },
          "metadata": {},
          "execution_count": 13
        }
      ]
    },
    {
      "cell_type": "code",
      "source": [
        "#se puede multiplicar las entradas de dos vectores\n",
        "z=x*y\n",
        "print(z)\n",
        "#o se puede obtener el producto punto\n",
        "w=np.dot(x,y)\n",
        "print(w)"
      ],
      "metadata": {
        "colab": {
          "base_uri": "https://localhost:8080/"
        },
        "id": "oXzNSoyVLnQe",
        "outputId": "e96472ad-6aa1-4061-c106-e31815097135"
      },
      "execution_count": 14,
      "outputs": [
        {
          "output_type": "stream",
          "name": "stdout",
          "text": [
            "[18  6]\n",
            "24\n"
          ]
        }
      ]
    },
    {
      "cell_type": "markdown",
      "source": [
        "Otro de los conceptos que se introducen en el curso es el de las funciones universales, las cuales se refieren a las funciones que se pueden aplicar a los arreglos de numpy."
      ],
      "metadata": {
        "id": "gYzA2gZbMr5g"
      }
    },
    {
      "cell_type": "code",
      "source": [
        "#algunas funciones universales son:\n",
        "a=x.mean()\n",
        "b=x.max()\n",
        "print(a)\n",
        "print(b)\n"
      ],
      "metadata": {
        "colab": {
          "base_uri": "https://localhost:8080/"
        },
        "id": "dMhaF8P9NT5z",
        "outputId": "058d487b-a0b9-4d40-a372-8a91644d6b16"
      },
      "execution_count": 17,
      "outputs": [
        {
          "output_type": "stream",
          "name": "stdout",
          "text": [
            "5.0\n",
            "9\n"
          ]
        }
      ]
    },
    {
      "cell_type": "code",
      "source": [
        "#otra función útil de numpy es linspace que devuelve un conjunto de x datos (x es el tercer agumento de la función), \n",
        "# entre los números ingresados como argumentos \n",
        "a=np.linspace(0,10,num=4)\n",
        "a"
      ],
      "metadata": {
        "colab": {
          "base_uri": "https://localhost:8080/"
        },
        "id": "yLu2e6WpOM9s",
        "outputId": "2a21facd-11f1-4327-dd2e-ce5baa720250"
      },
      "execution_count": 21,
      "outputs": [
        {
          "output_type": "execute_result",
          "data": {
            "text/plain": [
              "array([ 0.        ,  3.33333333,  6.66666667, 10.        ])"
            ]
          },
          "metadata": {},
          "execution_count": 21
        }
      ]
    },
    {
      "cell_type": "code",
      "source": [
        "np.dot(np.array([1,-1]),np.array([1,1]))"
      ],
      "metadata": {
        "colab": {
          "base_uri": "https://localhost:8080/"
        },
        "id": "a6GEKhUdPglu",
        "outputId": "ef0cb2ee-6483-447e-b09e-6bdb6b3f4e03"
      },
      "execution_count": 23,
      "outputs": [
        {
          "output_type": "execute_result",
          "data": {
            "text/plain": [
              "0"
            ]
          },
          "metadata": {},
          "execution_count": 23
        }
      ]
    },
    {
      "cell_type": "markdown",
      "source": [],
      "metadata": {
        "id": "9Aw4dQbdMr1R"
      }
    }
  ]
}