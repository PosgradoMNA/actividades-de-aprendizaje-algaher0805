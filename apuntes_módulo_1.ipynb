{
  "nbformat": 4,
  "nbformat_minor": 0,
  "metadata": {
    "colab": {
      "provenance": [],
      "authorship_tag": "ABX9TyOpN5blxKzsvsSdqmlxCAbZ",
      "include_colab_link": true
    },
    "kernelspec": {
      "name": "python3",
      "display_name": "Python 3"
    },
    "language_info": {
      "name": "python"
    }
  },
  "cells": [
    {
      "cell_type": "markdown",
      "metadata": {
        "id": "view-in-github",
        "colab_type": "text"
      },
      "source": [
        "<a href=\"https://colab.research.google.com/github/PosgradoMNA/actividades-de-aprendizaje-algaher0805/blob/main/apuntes_m%C3%B3dulo_1.ipynb\" target=\"_parent\"><img src=\"https://colab.research.google.com/assets/colab-badge.svg\" alt=\"Open In Colab\"/></a>"
      ]
    },
    {
      "cell_type": "markdown",
      "source": [
        "Alejandro García Hernández A01793812"
      ],
      "metadata": {
        "id": "7xlHdJiyPE-y"
      }
    },
    {
      "cell_type": "markdown",
      "source": [
        "En el primer módulo del curso se muestran los diferentes tipos de datos en python, la estructura de las expresiones, la lógica de los operadores y algunas operaciones básicas con strings."
      ],
      "metadata": {
        "id": "G7awGx41SLKL"
      }
    },
    {
      "cell_type": "markdown",
      "source": [
        "Específicamente, muestran algunos comandos para realizar cambios de tipos de datos como los siguientes ejemplos:\n"
      ],
      "metadata": {
        "id": "0Li-jfl-T-f0"
      }
    },
    {
      "cell_type": "code",
      "source": [
        "#Para convertir de string a enter:\n",
        "y=\"14\"\n",
        "x=int(y)\n",
        "x"
      ],
      "metadata": {
        "colab": {
          "base_uri": "https://localhost:8080/"
        },
        "id": "J8H-E3KOSuTQ",
        "outputId": "9ad49a57-e774-4de3-d028-6b4a271dffc0"
      },
      "execution_count": null,
      "outputs": [
        {
          "output_type": "execute_result",
          "data": {
            "text/plain": [
              "14"
            ]
          },
          "metadata": {},
          "execution_count": 6
        }
      ]
    },
    {
      "cell_type": "code",
      "source": [
        "x=bool(1)\n",
        "x"
      ],
      "metadata": {
        "colab": {
          "base_uri": "https://localhost:8080/"
        },
        "id": "d3YVRfkLUwJt",
        "outputId": "3a409ae9-4fdf-47b2-b5c5-c2f4edc29add"
      },
      "execution_count": null,
      "outputs": [
        {
          "output_type": "execute_result",
          "data": {
            "text/plain": [
              "True"
            ]
          },
          "metadata": {},
          "execution_count": 7
        }
      ]
    },
    {
      "cell_type": "code",
      "source": [
        "str(13)"
      ],
      "metadata": {
        "colab": {
          "base_uri": "https://localhost:8080/",
          "height": 35
        },
        "id": "xt7WzJb_U4TV",
        "outputId": "96f0ecfb-d5a3-41a7-a349-c7ac80abfdc3"
      },
      "execution_count": null,
      "outputs": [
        {
          "output_type": "execute_result",
          "data": {
            "text/plain": [
              "'13'"
            ],
            "application/vnd.google.colaboratory.intrinsic+json": {
              "type": "string"
            }
          },
          "metadata": {},
          "execution_count": 8
        }
      ]
    },
    {
      "cell_type": "markdown",
      "source": [
        "Otro punto que me parecio importante es que Python es sensible a las mayúsculas, ya que no en todos los programas esto es relevante."
      ],
      "metadata": {
        "id": "S2NWLNzGU7rS"
      }
    },
    {
      "cell_type": "code",
      "source": [
        "alex=8\n",
        "alex+2"
      ],
      "metadata": {
        "colab": {
          "base_uri": "https://localhost:8080/"
        },
        "id": "bYg1QRq6VJy3",
        "outputId": "b20fdfac-b0e9-4566-bad3-59c83358e9dc"
      },
      "execution_count": null,
      "outputs": [
        {
          "output_type": "execute_result",
          "data": {
            "text/plain": [
              "10"
            ]
          },
          "metadata": {},
          "execution_count": 11
        }
      ]
    },
    {
      "cell_type": "code",
      "source": [
        "Alex=10\n",
        "Alex+2"
      ],
      "metadata": {
        "colab": {
          "base_uri": "https://localhost:8080/"
        },
        "id": "YTr5sHZqVVV9",
        "outputId": "ed289acf-fea6-48b3-bed8-b0479fd180a8"
      },
      "execution_count": null,
      "outputs": [
        {
          "output_type": "execute_result",
          "data": {
            "text/plain": [
              "12"
            ]
          },
          "metadata": {},
          "execution_count": 10
        }
      ]
    },
    {
      "cell_type": "markdown",
      "source": [
        "Finalmente se muestran algunas operaciones importantes para cadenas de texto"
      ],
      "metadata": {
        "id": "nSl-xeMPVfVd"
      }
    },
    {
      "cell_type": "code",
      "source": [
        "x=\"Al\"\n",
        "y=\"ex\"\n",
        "z=x+y\n",
        "print(z)"
      ],
      "metadata": {
        "colab": {
          "base_uri": "https://localhost:8080/"
        },
        "id": "uhBW6h3NVkfM",
        "outputId": "f08a29fd-669f-4227-f24c-0fa9cea51750"
      },
      "execution_count": null,
      "outputs": [
        {
          "output_type": "stream",
          "name": "stdout",
          "text": [
            "Alex\n"
          ]
        }
      ]
    },
    {
      "cell_type": "code",
      "source": [
        "#Para obtener el tamaño del string\n",
        "len(z)"
      ],
      "metadata": {
        "colab": {
          "base_uri": "https://localhost:8080/"
        },
        "id": "9zb5ziWGaS7V",
        "outputId": "7e677c54-1f60-4021-c8f4-78f1f005a736"
      },
      "execution_count": null,
      "outputs": [
        {
          "output_type": "execute_result",
          "data": {
            "text/plain": [
              "4"
            ]
          },
          "metadata": {},
          "execution_count": 16
        }
      ]
    },
    {
      "cell_type": "code",
      "source": [
        "#para extraer los dos primeros caracteres\n",
        "z[0:2]"
      ],
      "metadata": {
        "colab": {
          "base_uri": "https://localhost:8080/",
          "height": 35
        },
        "id": "nUlQLHkcaiw_",
        "outputId": "9b317239-6601-416d-9a01-877fdd03e8a3"
      },
      "execution_count": null,
      "outputs": [
        {
          "output_type": "execute_result",
          "data": {
            "text/plain": [
              "'Al'"
            ],
            "application/vnd.google.colaboratory.intrinsic+json": {
              "type": "string"
            }
          },
          "metadata": {},
          "execution_count": 18
        }
      ]
    },
    {
      "cell_type": "code",
      "source": [
        "#para obtener los últimos dos caracteres de la variable z\n",
        "z[2:4]"
      ],
      "metadata": {
        "colab": {
          "base_uri": "https://localhost:8080/",
          "height": 35
        },
        "id": "FGMe4Dela600",
        "outputId": "f48c3d6b-e4bb-41af-e9a6-c92cc45458c0"
      },
      "execution_count": null,
      "outputs": [
        {
          "output_type": "execute_result",
          "data": {
            "text/plain": [
              "'ex'"
            ],
            "application/vnd.google.colaboratory.intrinsic+json": {
              "type": "string"
            }
          },
          "metadata": {},
          "execution_count": 23
        }
      ]
    },
    {
      "cell_type": "code",
      "source": [
        "#de manera más general, para extraer los últimos n caracteres..\n",
        "#definir el valor de n\n",
        "n=3\n",
        "z[len(z)-n:len(z)]"
      ],
      "metadata": {
        "colab": {
          "base_uri": "https://localhost:8080/",
          "height": 35
        },
        "id": "2c8mJNZYa5_U",
        "outputId": "832d6c8e-4932-4f02-afe3-ba9db7db5027"
      },
      "execution_count": null,
      "outputs": [
        {
          "output_type": "execute_result",
          "data": {
            "text/plain": [
              "'lex'"
            ],
            "application/vnd.google.colaboratory.intrinsic+json": {
              "type": "string"
            }
          },
          "metadata": {},
          "execution_count": 31
        }
      ]
    }
  ]
}