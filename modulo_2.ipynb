{
  "nbformat": 4,
  "nbformat_minor": 0,
  "metadata": {
    "colab": {
      "provenance": [],
      "authorship_tag": "ABX9TyO2Dxhmkd7HHuuGT5OBTE1Q",
      "include_colab_link": true
    },
    "kernelspec": {
      "name": "python3",
      "display_name": "Python 3"
    },
    "language_info": {
      "name": "python"
    }
  },
  "cells": [
    {
      "cell_type": "markdown",
      "metadata": {
        "id": "view-in-github",
        "colab_type": "text"
      },
      "source": [
        "<a href=\"https://colab.research.google.com/github/PosgradoMNA/actividades-de-aprendizaje-algaher0805/blob/main/modulo_2.ipynb\" target=\"_parent\"><img src=\"https://colab.research.google.com/assets/colab-badge.svg\" alt=\"Open In Colab\"/></a>"
      ]
    },
    {
      "cell_type": "markdown",
      "source": [
        "En el módulo 2 del cuso se comienza hablando de tuplas y listas, los elementos de las tuplas se definen entre paréntesis, también, tuplas tienen índices con los cuales se puede acceder o hacer referencia a cada elemento de una tupla, además la tupla puede contener cualquier tipo de datos. \n"
      ],
      "metadata": {
        "id": "yUYxD7seg89i"
      }
    },
    {
      "cell_type": "code",
      "source": [
        "x=(9, \"Alex\", 0.23, 35)\n",
        "x"
      ],
      "metadata": {
        "colab": {
          "base_uri": "https://localhost:8080/"
        },
        "id": "EHROn_86hCdO",
        "outputId": "b2494c14-2ab6-47aa-a469-41005b4c177f"
      },
      "execution_count": null,
      "outputs": [
        {
          "output_type": "execute_result",
          "data": {
            "text/plain": [
              "(9, 'Alex', 0.23, 35)"
            ]
          },
          "metadata": {},
          "execution_count": 2
        }
      ]
    },
    {
      "cell_type": "markdown",
      "source": [
        "Al igual que con las cadenas de texto como se vio en el primer módulo, se puede extraer solo ciertas partes de las tuplas"
      ],
      "metadata": {
        "id": "6dZwuGoGhjFH"
      }
    },
    {
      "cell_type": "code",
      "source": [
        "#Ojo, en el segundo elemento se agrega el siguiente número mayor del índice que queramos traer (en el ejemplo de abajo se extraen los elementos\n",
        "#guardados en los lugares 0 y 1 de la tupla, pero al hacer referencia se pone 2 en lugar de 1)\n",
        "x[0:2]"
      ],
      "metadata": {
        "colab": {
          "base_uri": "https://localhost:8080/"
        },
        "id": "XoegkRgchhd9",
        "outputId": "05ac9100-2f0e-476e-ad26-716bbbf22c83"
      },
      "execution_count": null,
      "outputs": [
        {
          "output_type": "execute_result",
          "data": {
            "text/plain": [
              "(9, 'Alex')"
            ]
          },
          "metadata": {},
          "execution_count": 3
        }
      ]
    },
    {
      "cell_type": "code",
      "source": [
        "#también podemos acceder a los elementos de las tuplas en orden inverso\n",
        "x[-1]"
      ],
      "metadata": {
        "colab": {
          "base_uri": "https://localhost:8080/"
        },
        "id": "S0DO0FLTh2jX",
        "outputId": "afafaa60-0bfa-4a18-c669-d43ad4c80665"
      },
      "execution_count": null,
      "outputs": [
        {
          "output_type": "execute_result",
          "data": {
            "text/plain": [
              "35"
            ]
          },
          "metadata": {},
          "execution_count": 13
        }
      ]
    },
    {
      "cell_type": "markdown",
      "source": [
        "las tuplas también pueden ser elementos de otra tupla"
      ],
      "metadata": {
        "id": "79AJaSFPlBPg"
      }
    },
    {
      "cell_type": "code",
      "source": [
        "x=(3,6,0,8,4,(\"a\",3,23))\n",
        "x"
      ],
      "metadata": {
        "colab": {
          "base_uri": "https://localhost:8080/"
        },
        "id": "j3qnqp1yl5XG",
        "outputId": "ff7dc993-dc50-4e47-f684-df9981a42ed3"
      },
      "execution_count": null,
      "outputs": [
        {
          "output_type": "execute_result",
          "data": {
            "text/plain": [
              "(3, 6, 0, 8, 4, ('a', 3, 23))"
            ]
          },
          "metadata": {},
          "execution_count": 16
        }
      ]
    },
    {
      "cell_type": "code",
      "source": [
        "#en este ejemplo, al hacer referencia al 6to elemento de la tupla obtendremos una tupla\n",
        "x[5]"
      ],
      "metadata": {
        "colab": {
          "base_uri": "https://localhost:8080/"
        },
        "id": "fLHPrUjUmDB1",
        "outputId": "aaab7a4b-2b90-4d62-998b-3d69f1144902"
      },
      "execution_count": null,
      "outputs": [
        {
          "output_type": "execute_result",
          "data": {
            "text/plain": [
              "('a', 3, 23)"
            ]
          },
          "metadata": {},
          "execution_count": 17
        }
      ]
    },
    {
      "cell_type": "code",
      "source": [
        "#En el ejemplo anterior, cuando queremos acceder a un elemento de una tupla anidada dentro de otra, se tiene que hacer referencia con un doble índice\n",
        "x[5][2]\n",
        "#El primer índice nos dice que se accederá al 6to elemento de la tupla \"x\", y una vez dentro de la tupla (\"a\",3,23) se accederá al tercer elemento"
      ],
      "metadata": {
        "colab": {
          "base_uri": "https://localhost:8080/"
        },
        "id": "ddp7AyeommWt",
        "outputId": "d3217f14-c911-4930-ce38-74e4e314ad23"
      },
      "execution_count": null,
      "outputs": [
        {
          "output_type": "execute_result",
          "data": {
            "text/plain": [
              "23"
            ]
          },
          "metadata": {},
          "execution_count": 18
        }
      ]
    },
    {
      "cell_type": "markdown",
      "source": [
        "Finalmente las tuplas se pueden concatenar"
      ],
      "metadata": {
        "id": "JSv_3ZUFnhLu"
      }
    },
    {
      "cell_type": "code",
      "source": [
        "y=x[5][0:2]\n",
        "z=x+y\n",
        "z"
      ],
      "metadata": {
        "colab": {
          "base_uri": "https://localhost:8080/"
        },
        "id": "PBRDmFdjnlHR",
        "outputId": "7da95651-5e45-41eb-f9dd-191434d676f6"
      },
      "execution_count": null,
      "outputs": [
        {
          "output_type": "execute_result",
          "data": {
            "text/plain": [
              "(3, 6, 0, 8, 4, ('a', 3, 23), 'a', 3)"
            ]
          },
          "metadata": {},
          "execution_count": 19
        }
      ]
    },
    {
      "cell_type": "markdown",
      "source": [
        "En este módulo nos explican también las listas, la primer diferencia con respecto de las tuplas es que los elementos de las listas están entre corchetes y no entre paréntesis."
      ],
      "metadata": {
        "id": "VsMEYGNUn0SP"
      }
    },
    {
      "cell_type": "code",
      "source": [
        "# como se observa, uno de los elementos de una lista puede ser una tupla\n",
        "x=[3,6,0,8,4,(\"a\",3,23)]\n",
        "x"
      ],
      "metadata": {
        "colab": {
          "base_uri": "https://localhost:8080/"
        },
        "id": "nbzBgwIfoDVT",
        "outputId": "5ec3834d-e94c-4e7c-ba82-8d76f7d8708b"
      },
      "execution_count": null,
      "outputs": [
        {
          "output_type": "execute_result",
          "data": {
            "text/plain": [
              "[3, 6, 0, 8, 4, ('a', 3, 23)]"
            ]
          },
          "metadata": {},
          "execution_count": 20
        }
      ]
    },
    {
      "cell_type": "markdown",
      "source": [
        "A diferencia de las tuplas, las listas si pueden modificarse."
      ],
      "metadata": {
        "id": "sZz5tqkMoUwX"
      }
    },
    {
      "cell_type": "code",
      "source": [
        "#con extend podemos agregar elementos de manera individual al final de la lista\n",
        "x.extend([1,8])\n",
        "x"
      ],
      "metadata": {
        "colab": {
          "base_uri": "https://localhost:8080/"
        },
        "id": "hZkGF6rfoZrk",
        "outputId": "94f10501-6932-4f02-bff5-6fe20674c50b"
      },
      "execution_count": null,
      "outputs": [
        {
          "output_type": "execute_result",
          "data": {
            "text/plain": [
              "[3, 6, 0, 8, 4, ('a', 3, 23), 1, 8]"
            ]
          },
          "metadata": {},
          "execution_count": 21
        }
      ]
    },
    {
      "cell_type": "code",
      "source": [
        "#con append, agregamos un solo elemento al final de la lista\n",
        "x.append([1,8])\n",
        "x"
      ],
      "metadata": {
        "colab": {
          "base_uri": "https://localhost:8080/"
        },
        "id": "ydzua0-fot2q",
        "outputId": "2722d68b-e887-48e5-c3bc-cdf7814d5a87"
      },
      "execution_count": null,
      "outputs": [
        {
          "output_type": "execute_result",
          "data": {
            "text/plain": [
              "[3, 6, 0, 8, 4, ('a', 3, 23), 1, 8, [1, 8]]"
            ]
          },
          "metadata": {},
          "execution_count": 22
        }
      ]
    },
    {
      "cell_type": "code",
      "source": [
        "#podemos también reemplazar los valores de las listas\n",
        "x[5]=\"nuevo\"\n",
        "x"
      ],
      "metadata": {
        "colab": {
          "base_uri": "https://localhost:8080/"
        },
        "id": "2Rk0t6o5pZJj",
        "outputId": "8d43c605-71f3-4418-eb86-6a205c4b6a82"
      },
      "execution_count": null,
      "outputs": [
        {
          "output_type": "execute_result",
          "data": {
            "text/plain": [
              "[3, 6, 0, 8, 4, 'nuevo', 1, 8, [1, 8]]"
            ]
          },
          "metadata": {},
          "execution_count": 23
        }
      ]
    },
    {
      "cell_type": "code",
      "source": [
        "# y también eliminar elementos\n",
        "del(x[0:2])\n",
        "x"
      ],
      "metadata": {
        "colab": {
          "base_uri": "https://localhost:8080/"
        },
        "id": "gqwbkhi7p5uk",
        "outputId": "10d92aaa-04c5-4220-c4b0-718e614980df"
      },
      "execution_count": null,
      "outputs": [
        {
          "output_type": "execute_result",
          "data": {
            "text/plain": [
              "[0, 8, 4, 'nuevo', 1, 8, [1, 8]]"
            ]
          },
          "metadata": {},
          "execution_count": 24
        }
      ]
    },
    {
      "cell_type": "markdown",
      "source": [
        "OJO ¿, en las listas, si hacemos una \"copia\" de la lista x (y=x) en realidad ambas listas hacen referencia a los mismos elementos así que al cambiar un elemento de x también se cambiará en y"
      ],
      "metadata": {
        "id": "VG9TNwJAqxUQ"
      }
    },
    {
      "cell_type": "code",
      "source": [
        "y=x\n",
        "y[1]"
      ],
      "metadata": {
        "colab": {
          "base_uri": "https://localhost:8080/"
        },
        "id": "1CNfIQ_qqvFw",
        "outputId": "9c8387a8-be9f-4ce3-fbd7-79e23e9a9870"
      },
      "execution_count": null,
      "outputs": [
        {
          "output_type": "execute_result",
          "data": {
            "text/plain": [
              "8"
            ]
          },
          "metadata": {},
          "execution_count": 26
        }
      ]
    },
    {
      "cell_type": "code",
      "source": [
        "x[1]=\"cuidado\"\n",
        "y[1]"
      ],
      "metadata": {
        "colab": {
          "base_uri": "https://localhost:8080/",
          "height": 35
        },
        "id": "xtnZeI4CrDAx",
        "outputId": "6488fa1e-4fff-42e2-dacb-974b35ef764b"
      },
      "execution_count": null,
      "outputs": [
        {
          "output_type": "execute_result",
          "data": {
            "text/plain": [
              "'cuidado'"
            ],
            "application/vnd.google.colaboratory.intrinsic+json": {
              "type": "string"
            }
          },
          "metadata": {},
          "execution_count": 27
        }
      ]
    },
    {
      "cell_type": "markdown",
      "source": [
        "Esto puede generar errores costosos, por lo que hay que tener en cuenta que si lo que queremos es hacer una copia de la lista x para trabajarla de manera independiente entonces la sintaxis sería la siguiente"
      ],
      "metadata": {
        "id": "FnBXOyCprNT2"
      }
    },
    {
      "cell_type": "code",
      "source": [
        "y=x[:]\n",
        "y[1]"
      ],
      "metadata": {
        "colab": {
          "base_uri": "https://localhost:8080/",
          "height": 35
        },
        "id": "ZP-oGCfWrWqZ",
        "outputId": "7e5e8369-77e8-425d-b66d-512df7456690"
      },
      "execution_count": null,
      "outputs": [
        {
          "output_type": "execute_result",
          "data": {
            "text/plain": [
              "'cuidado'"
            ],
            "application/vnd.google.colaboratory.intrinsic+json": {
              "type": "string"
            }
          },
          "metadata": {},
          "execution_count": 28
        }
      ]
    },
    {
      "cell_type": "code",
      "source": [
        "x[1]=\"ojo\"\n",
        "y[1]"
      ],
      "metadata": {
        "id": "qgxkxPcfrdHy",
        "outputId": "3168353b-c4d1-440c-9bfd-7ca726235abb",
        "colab": {
          "base_uri": "https://localhost:8080/",
          "height": 35
        }
      },
      "execution_count": null,
      "outputs": [
        {
          "output_type": "execute_result",
          "data": {
            "text/plain": [
              "'cuidado'"
            ],
            "application/vnd.google.colaboratory.intrinsic+json": {
              "type": "string"
            }
          },
          "metadata": {},
          "execution_count": 29
        }
      ]
    },
    {
      "cell_type": "markdown",
      "source": [
        "Otro punto que se muestra en el módulo 2 es el uso de set. La primer diferencia con respecto a las listas y tuplas es que los elementos de un set se encuentra entre llaves {}, otra diferencia es que en un set no puede haber elementos repetidos"
      ],
      "metadata": {
        "id": "MNZnQw9mvSce"
      }
    },
    {
      "cell_type": "code",
      "source": [
        "x={1,2,3,4,5,7,8,8,8}\n",
        "x"
      ],
      "metadata": {
        "colab": {
          "base_uri": "https://localhost:8080/"
        },
        "id": "4ZJ8jiW-vu2D",
        "outputId": "a27a4701-143c-43e2-9179-b62a25c3ab0a"
      },
      "execution_count": 31,
      "outputs": [
        {
          "output_type": "execute_result",
          "data": {
            "text/plain": [
              "{1, 2, 3, 4, 5, 7, 8}"
            ]
          },
          "metadata": {},
          "execution_count": 31
        }
      ]
    },
    {
      "cell_type": "code",
      "source": [
        "#también podemos convertir listas o tuplas a un set\n",
        "y=[1,2,3,4,5,7,8,8,8]\n",
        "y"
      ],
      "metadata": {
        "colab": {
          "base_uri": "https://localhost:8080/"
        },
        "id": "mJEgrcPMv5VY",
        "outputId": "ae406bf5-3b89-46e7-820c-6878b938a156"
      },
      "execution_count": 32,
      "outputs": [
        {
          "output_type": "execute_result",
          "data": {
            "text/plain": [
              "[1, 2, 3, 4, 5, 7, 8, 8, 8]"
            ]
          },
          "metadata": {},
          "execution_count": 32
        }
      ]
    },
    {
      "cell_type": "code",
      "source": [
        "#Como se observa, en la lista el número 8 se encuentra repetido 3 veces pero al convertlo en set apare únicamente 1 vez\n",
        "x=set(y)\n",
        "x"
      ],
      "metadata": {
        "colab": {
          "base_uri": "https://localhost:8080/"
        },
        "id": "EO8Lm6MnwFzO",
        "outputId": "b3b72303-e1df-4110-c143-9ea538a778ea"
      },
      "execution_count": 33,
      "outputs": [
        {
          "output_type": "execute_result",
          "data": {
            "text/plain": [
              "{1, 2, 3, 4, 5, 7, 8}"
            ]
          },
          "metadata": {},
          "execution_count": 33
        }
      ]
    },
    {
      "cell_type": "code",
      "source": [
        "#para agregar elementos a un set utilizamos el comando add\n",
        "x.add(9)\n",
        "x"
      ],
      "metadata": {
        "colab": {
          "base_uri": "https://localhost:8080/"
        },
        "id": "uJMriEEowUTG",
        "outputId": "009dee27-8a60-4e9b-b4ec-f653579eebf7"
      },
      "execution_count": 39,
      "outputs": [
        {
          "output_type": "execute_result",
          "data": {
            "text/plain": [
              "{1, 2, 3, 4, 5, 7, 8, 9}"
            ]
          },
          "metadata": {},
          "execution_count": 39
        }
      ]
    },
    {
      "cell_type": "code",
      "source": [
        "#si agregamos algún elemento que ya existe no veremos ningún cambio en el set\n",
        "x.add(1)\n",
        "x"
      ],
      "metadata": {
        "colab": {
          "base_uri": "https://localhost:8080/"
        },
        "id": "BOG1SBhPxEar",
        "outputId": "671fc6bd-a022-41f4-c2cc-685fe638624e"
      },
      "execution_count": 40,
      "outputs": [
        {
          "output_type": "execute_result",
          "data": {
            "text/plain": [
              "{1, 2, 3, 4, 5, 7, 8, 9}"
            ]
          },
          "metadata": {},
          "execution_count": 40
        }
      ]
    },
    {
      "cell_type": "code",
      "source": [
        "#También podemos remover elementos\n",
        "x.remove(1)\n",
        "x"
      ],
      "metadata": {
        "colab": {
          "base_uri": "https://localhost:8080/"
        },
        "id": "MqP6uhoexQ-7",
        "outputId": "869402fd-a6d7-4c29-8860-54f6b5235279"
      },
      "execution_count": 41,
      "outputs": [
        {
          "output_type": "execute_result",
          "data": {
            "text/plain": [
              "{2, 3, 4, 5, 7, 8, 9}"
            ]
          },
          "metadata": {},
          "execution_count": 41
        }
      ]
    },
    {
      "cell_type": "code",
      "source": [
        "#Podemos corroborar si algún valor está dentro del set\n",
        "3 in x"
      ],
      "metadata": {
        "colab": {
          "base_uri": "https://localhost:8080/"
        },
        "id": "G4kLcr1dysIV",
        "outputId": "2ba3927e-f164-40a7-928b-4f0b2456ca80"
      },
      "execution_count": 45,
      "outputs": [
        {
          "output_type": "execute_result",
          "data": {
            "text/plain": [
              "True"
            ]
          },
          "metadata": {},
          "execution_count": 45
        }
      ]
    },
    {
      "cell_type": "code",
      "source": [
        "#generar la intersección de dos sets\n",
        "x={1,2,3}\n",
        "y={3,4,5}\n",
        "z=x & y\n",
        "z"
      ],
      "metadata": {
        "colab": {
          "base_uri": "https://localhost:8080/"
        },
        "id": "xOlehdZsy4aj",
        "outputId": "0753b349-ff7e-4e38-f3b4-9279dc6e4656"
      },
      "execution_count": 48,
      "outputs": [
        {
          "output_type": "execute_result",
          "data": {
            "text/plain": [
              "{3}"
            ]
          },
          "metadata": {},
          "execution_count": 48
        }
      ]
    },
    {
      "cell_type": "code",
      "source": [
        "#generar la unión cción de dos sets\n",
        "x={1,2,3}\n",
        "y={3,4,5}\n",
        "z=x | y\n",
        "z"
      ],
      "metadata": {
        "colab": {
          "base_uri": "https://localhost:8080/"
        },
        "id": "aKMr4G1vzFIr",
        "outputId": "272b83ba-845e-4b36-b202-eae8846209bd"
      },
      "execution_count": 49,
      "outputs": [
        {
          "output_type": "execute_result",
          "data": {
            "text/plain": [
              "{1, 2, 3, 4, 5}"
            ]
          },
          "metadata": {},
          "execution_count": 49
        }
      ]
    },
    {
      "cell_type": "code",
      "source": [
        "S={'A','B','C'}\n",
        "\n",
        "U={'A','Z','C'}\n",
        "\n",
        "U.union(S)"
      ],
      "metadata": {
        "colab": {
          "base_uri": "https://localhost:8080/"
        },
        "id": "sajgmK1ozfn8",
        "outputId": "7eaa2527-fb3e-49d4-beed-28a0637ba488"
      },
      "execution_count": 50,
      "outputs": [
        {
          "output_type": "execute_result",
          "data": {
            "text/plain": [
              "{'A', 'B', 'C', 'Z'}"
            ]
          },
          "metadata": {},
          "execution_count": 50
        }
      ]
    },
    {
      "cell_type": "markdown",
      "source": [
        "Finalmente en el módulo 2 se introduce el concepto de los diccionarios"
      ],
      "metadata": {
        "id": "jfK0BCgj3XNT"
      }
    },
    {
      "cell_type": "code",
      "source": [
        "#básicamente son tal cuál diccionarios de variables que tal vez tengamos codificadas\n",
        "x={\"a\":1, \"b\":2, \"c\":3}\n",
        "x[\"c\"]"
      ],
      "metadata": {
        "colab": {
          "base_uri": "https://localhost:8080/"
        },
        "id": "ll8dXiMr3b_I",
        "outputId": "90d71e39-dec6-4349-8c61-5de7771824a6"
      },
      "execution_count": 51,
      "outputs": [
        {
          "output_type": "execute_result",
          "data": {
            "text/plain": [
              "3"
            ]
          },
          "metadata": {},
          "execution_count": 51
        }
      ]
    },
    {
      "cell_type": "code",
      "source": [
        "#podemos ver los valores de las llaves\n",
        "x.keys()"
      ],
      "metadata": {
        "colab": {
          "base_uri": "https://localhost:8080/"
        },
        "id": "0KqqWWN235Oa",
        "outputId": "0276fe24-9cea-4d37-8f33-7551bb571ad6"
      },
      "execution_count": 52,
      "outputs": [
        {
          "output_type": "execute_result",
          "data": {
            "text/plain": [
              "dict_keys(['a', 'b', 'c'])"
            ]
          },
          "metadata": {},
          "execution_count": 52
        }
      ]
    },
    {
      "cell_type": "code",
      "source": [
        "#o los valores asosiadas a las llaves\n",
        "x.values()"
      ],
      "metadata": {
        "colab": {
          "base_uri": "https://localhost:8080/"
        },
        "id": "TszCbCf34DdD",
        "outputId": "839a1e62-0ded-4b1f-e675-9a5b175bf60a"
      },
      "execution_count": 53,
      "outputs": [
        {
          "output_type": "execute_result",
          "data": {
            "text/plain": [
              "dict_values([1, 2, 3])"
            ]
          },
          "metadata": {},
          "execution_count": 53
        }
      ]
    },
    {
      "cell_type": "code",
      "source": [
        "#agregar nuevos valores\n",
        "x[\"d\"]=4\n",
        "x.keys()"
      ],
      "metadata": {
        "colab": {
          "base_uri": "https://localhost:8080/"
        },
        "id": "dkjiaPFg4NiW",
        "outputId": "ffe730f8-2ed3-419b-fd2a-55f9e48c27a8"
      },
      "execution_count": 56,
      "outputs": [
        {
          "output_type": "execute_result",
          "data": {
            "text/plain": [
              "dict_keys(['a', 'b', 'c', 'd'])"
            ]
          },
          "metadata": {},
          "execution_count": 56
        }
      ]
    },
    {
      "cell_type": "code",
      "source": [
        "#borrar elementos\n",
        "del(x[\"a\"])\n",
        "x.keys()"
      ],
      "metadata": {
        "colab": {
          "base_uri": "https://localhost:8080/"
        },
        "id": "tJR_yqNJ4o4v",
        "outputId": "3b78e891-35ff-4129-88f3-f21449fc8dd0"
      },
      "execution_count": 57,
      "outputs": [
        {
          "output_type": "execute_result",
          "data": {
            "text/plain": [
              "dict_keys(['b', 'c', 'd'])"
            ]
          },
          "metadata": {},
          "execution_count": 57
        }
      ]
    },
    {
      "cell_type": "code",
      "source": [
        "#y finalmente checar la existencia de algún valor dentro del diccionario\n",
        "\"a\" in x"
      ],
      "metadata": {
        "colab": {
          "base_uri": "https://localhost:8080/"
        },
        "id": "beyZswMq4uOQ",
        "outputId": "7f813e09-2432-4e25-a88a-f4330180cf82"
      },
      "execution_count": 58,
      "outputs": [
        {
          "output_type": "execute_result",
          "data": {
            "text/plain": [
              "False"
            ]
          },
          "metadata": {},
          "execution_count": 58
        }
      ]
    }
  ]
}